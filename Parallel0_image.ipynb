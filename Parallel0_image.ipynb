{
 "cells": [
  {
   "cell_type": "code",
   "execution_count": 1,
   "id": "magnetic-angle",
   "metadata": {},
   "outputs": [],
   "source": [
    "import os\n",
    "import numpy as np\n",
    "import cv2\n",
    "import multiprocessing\n",
    "min_confidence = 0.2"
   ]
  },
  {
   "cell_type": "code",
   "execution_count": 2,
   "id": "opposite-playing",
   "metadata": {},
   "outputs": [],
   "source": [
    "CLASSES = [\"background\", \"aeroplane\", \"bicycle\", \"bird\", \"boat\",\n",
    "    \"bottle\", \"bus\", \"car\", \"cat\", \"chair\", \"cow\", \"diningtable\",\n",
    "    \"dog\", \"horse\", \"motorbike\", \"person\", \"pottedplant\", \"sheep\",\n",
    "    \"sofa\", \"train\", \"tvmonitor\"]\n",
    "COLORS = np.random.uniform(0, 255, size=(len(CLASSES), 3))\n",
    "\n",
    "net = cv2.dnn.readNetFromCaffe(\"MobileNetSSD_deploy.prototxt.txt\", \"MobileNetSSD_deploy.caffemodel\")"
   ]
  },
  {
   "cell_type": "code",
   "execution_count": 3,
   "id": "prospective-prince",
   "metadata": {},
   "outputs": [],
   "source": [
    "def parallel(img,num):\n",
    "    image = cv2.imread(img)\n",
    "    (h, w) = image.shape[:2]\n",
    "    blob = cv2.dnn.blobFromImage(cv2.resize(image, (300, 300)), 0.007843, (300, 300), 127.5)\n",
    "\n",
    "    #load image in model\n",
    "    net.setInput(blob)\n",
    "    detections = net.forward()\n",
    "\n",
    "    #look for match in image\n",
    "    for i in np.arange(0, detections.shape[2]):\n",
    "        \n",
    "        #extract confidence from detected object\n",
    "        confidence = detections[0, 0, i, 2]\n",
    "\n",
    "        #filter out low confidence objects\n",
    "        if confidence > min_confidence:\n",
    "            \n",
    "            idx = int(detections[0, 0, i, 1])\n",
    "            box = detections[0, 0, i, 3:7] * np.array([w, h, w, h])\n",
    "            \n",
    "            (startX, startY, endX, endY) = box.astype(\"int\")\n",
    "\n",
    "            # display the prediction\n",
    "            label = \"{}: {:.2f}%\".format(CLASSES[idx], confidence * 100)\n",
    "#             print(\"[INFO] {}\".format(label))\n",
    "            cv2.rectangle(image, (startX, startY), (endX, endY), COLORS[idx], 2)\n",
    "    \n",
    "            y = startY - 15 if startY - 15 > 15 else startY + 15\n",
    "            cv2.putText(image, label, (startX, y), cv2.FONT_HERSHEY_SIMPLEX, 0.5, COLORS[idx], 2)\n",
    "\n",
    "    # show the output image\n",
    "    cv2.imwrite(\"./output/{}_output.jpg\".format(num), image)"
   ]
  },
  {
   "cell_type": "code",
   "execution_count": 4,
   "id": "imposed-archives",
   "metadata": {},
   "outputs": [],
   "source": [
    "def parallel_all(k):\n",
    "  if(k==1):\n",
    "    for i in range(0,1000):\n",
    "      parallel(\"./images/image_{}.jpg\".format(i),i)\n",
    "  if(k==2):\n",
    "    for i in range(1000,2000):\n",
    "      parallel(\"./images/image_{}.jpg\".format(i),i)\n",
    "  if(k==3):\n",
    "    for i in range(2000,3000):\n",
    "      parallel(\"./images/image_{}.jpg\".format(i),i)\n",
    "  if(k==4):\n",
    "    for i in range(3000,4000):\n",
    "      parallel(\"./images/image_{}.jpg\".format(i),i)\n",
    "  if(k==5):\n",
    "    for i in range(4000,5000):\n",
    "      parallel(\"./images/image_{}.jpg\".format(i),i)\n",
    "  if(k==6):\n",
    "    for i in range(5000,6000):\n",
    "      parallel(\"./images/image_{}.jpg\".format(i),i)"
   ]
  },
  {
   "cell_type": "code",
   "execution_count": 5,
   "id": "through-junior",
   "metadata": {},
   "outputs": [
    {
     "name": "stdout",
     "output_type": "stream",
     "text": [
      "Parallel Implementation of 6000 images using 6 processors with same function: \n",
      "CPU times: user 46 ms, sys: 27.1 ms, total: 73.2 ms\n",
      "Wall time: 4min 27s\n"
     ]
    }
   ],
   "source": [
    "%%time\n",
    "print(\"Parallel Implementation of 6000 images using 6 processors with same function: \")\n",
    "pool = multiprocessing.Pool(processes=6)\n",
    "result = pool.map(parallel_all, [1,2,3,4,5,6])"
   ]
  }
 ],
 "metadata": {
  "kernelspec": {
   "display_name": "Python 3",
   "language": "python",
   "name": "python3"
  },
  "language_info": {
   "codemirror_mode": {
    "name": "ipython",
    "version": 3
   },
   "file_extension": ".py",
   "mimetype": "text/x-python",
   "name": "python",
   "nbconvert_exporter": "python",
   "pygments_lexer": "ipython3",
   "version": "3.8.5"
  }
 },
 "nbformat": 4,
 "nbformat_minor": 5
}
