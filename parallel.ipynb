{
 "cells": [
  {
   "cell_type": "markdown",
   "id": "outdoor-physiology",
   "metadata": {},
   "source": [
    "## Importing"
   ]
  },
  {
   "cell_type": "code",
   "execution_count": 1,
   "id": "together-netscape",
   "metadata": {},
   "outputs": [],
   "source": [
    "import os\n",
    "import numpy as np\n",
    "import cv2\n",
    "import multiprocessing\n",
    "min_confidence = 0.2"
   ]
  },
  {
   "cell_type": "markdown",
   "id": "threatened-playlist",
   "metadata": {},
   "source": [
    "## for renaming the file"
   ]
  },
  {
   "cell_type": "code",
   "execution_count": null,
   "id": "dried-examination",
   "metadata": {},
   "outputs": [],
   "source": [
    "%%time\n",
    "path = './images/'\n",
    "i = 0\n",
    "for filename in os.listdir(path):\n",
    "    os.rename(os.path.join(path,filename), os.path.join(path,'image_'+str(i)+'.jpg'))\n",
    "    i = i +1"
   ]
  },
  {
   "cell_type": "markdown",
   "id": "incorporate-numbers",
   "metadata": {},
   "source": [
    "## class define and model load"
   ]
  },
  {
   "cell_type": "code",
   "execution_count": 2,
   "id": "attached-escape",
   "metadata": {},
   "outputs": [],
   "source": [
    "CLASSES = [\"background\", \"aeroplane\", \"bicycle\", \"bird\", \"boat\",\n",
    "    \"bottle\", \"bus\", \"car\", \"cat\", \"chair\", \"cow\", \"diningtable\",\n",
    "    \"dog\", \"horse\", \"motorbike\", \"person\", \"pottedplant\", \"sheep\",\n",
    "    \"sofa\", \"train\", \"tvmonitor\"]\n",
    "COLORS = np.random.uniform(0, 255, size=(len(CLASSES), 3))\n",
    "\n",
    "net = cv2.dnn.readNetFromCaffe(\"MobileNetSSD_deploy.prototxt.txt\", \"MobileNetSSD_deploy.caffemodel\")"
   ]
  },
  {
   "cell_type": "markdown",
   "id": "compound-salad",
   "metadata": {},
   "source": [
    "## function for detection"
   ]
  },
  {
   "cell_type": "code",
   "execution_count": 3,
   "id": "fluid-layer",
   "metadata": {},
   "outputs": [],
   "source": [
    "def prep(img):\n",
    "    #image load\n",
    "    image = cv2.imread(img)\n",
    "    (h, w) = image.shape[:2]\n",
    "    blob = cv2.dnn.blobFromImage(cv2.resize(image, (300, 300)), 0.007843, (300, 300), 127.5)\n",
    "    return blob,h,w,image\n",
    "\n",
    "def tini(arr, h, w, image, num):\n",
    "    #load image in model\n",
    "    net.setInput(arr)\n",
    "    detections = net.forward()\n",
    "\n",
    "    #look for match in image\n",
    "    for i in np.arange(0, detections.shape[2]):\n",
    "        \n",
    "        #extract confidence from detected object\n",
    "        confidence = detections[0, 0, i, 2]\n",
    "\n",
    "        #filter out low confidence objects\n",
    "        if confidence > min_confidence:\n",
    "            \n",
    "            idx = int(detections[0, 0, i, 1])\n",
    "            box = detections[0, 0, i, 3:7] * np.array([w, h, w, h])\n",
    "            \n",
    "            (startX, startY, endX, endY) = box.astype(\"int\")\n",
    "\n",
    "            # display the prediction\n",
    "            label = \"{}: {:.2f}%\".format(CLASSES[idx], confidence * 100)\n",
    "#             print(\"[INFO] {}\".format(label))\n",
    "            cv2.rectangle(image, (startX, startY), (endX, endY), COLORS[idx], 2)\n",
    "    \n",
    "            y = startY - 15 if startY - 15 > 15 else startY + 15\n",
    "            cv2.putText(image, label, (startX, y), cv2.FONT_HERSHEY_SIMPLEX, 0.5, COLORS[idx], 2)\n",
    "\n",
    "    # show the output image\n",
    "    cv2.imwrite(\"./output/{}_output.jpg\".format(num), image)"
   ]
  },
  {
   "cell_type": "code",
   "execution_count": 12,
   "id": "upper-answer",
   "metadata": {
    "collapsed": true
   },
   "outputs": [
    {
     "data": {
      "text/plain": [
       "array([[[[0.8666515 , 0.8744945 , 0.8666515 , ..., 0.8666515 ,\n",
       "          0.8744945 , 0.8666515 ],\n",
       "         [0.9058665 , 0.91370946, 0.9058665 , ..., 0.9058665 ,\n",
       "          0.91370946, 0.9058665 ],\n",
       "         [0.91370946, 0.9215525 , 0.91370946, ..., 0.91370946,\n",
       "          0.9215525 , 0.91370946],\n",
       "         ...,\n",
       "         [0.8274365 , 0.83527946, 0.8274365 , ..., 0.75684947,\n",
       "          0.7646925 , 0.75684947],\n",
       "         [0.8274365 , 0.83527946, 0.8274365 , ..., 0.75684947,\n",
       "          0.7646925 , 0.75684947],\n",
       "         [0.7882215 , 0.7960645 , 0.7882215 , ..., 0.70194846,\n",
       "          0.7254775 , 0.7254775 ]],\n",
       "\n",
       "        [[1.866634  , 1.874477  , 1.866634  , ..., 1.866634  ,\n",
       "          1.874477  , 1.866634  ],\n",
       "         [1.905849  , 1.913692  , 1.905849  , ..., 1.905849  ,\n",
       "          1.913692  , 1.905849  ],\n",
       "         [1.913692  , 1.921535  , 1.913692  , ..., 1.913692  ,\n",
       "          1.921535  , 1.913692  ],\n",
       "         ...,\n",
       "         [1.8274189 , 1.835262  , 1.8274189 , ..., 1.756832  ,\n",
       "          1.764675  , 1.756832  ],\n",
       "         [1.8274189 , 1.835262  , 1.8274189 , ..., 1.756832  ,\n",
       "          1.764675  , 1.756832  ],\n",
       "         [1.788204  , 1.796047  , 1.788204  , ..., 1.701931  ,\n",
       "          1.7254599 , 1.7254599 ]],\n",
       "\n",
       "        [[1.866634  , 1.874477  , 1.866634  , ..., 1.866634  ,\n",
       "          1.874477  , 1.866634  ],\n",
       "         [1.905849  , 1.913692  , 1.905849  , ..., 1.905849  ,\n",
       "          1.913692  , 1.905849  ],\n",
       "         [1.913692  , 1.921535  , 1.913692  , ..., 1.913692  ,\n",
       "          1.921535  , 1.913692  ],\n",
       "         ...,\n",
       "         [1.8274189 , 1.835262  , 1.8274189 , ..., 1.756832  ,\n",
       "          1.764675  , 1.756832  ],\n",
       "         [1.8274189 , 1.835262  , 1.8274189 , ..., 1.756832  ,\n",
       "          1.764675  , 1.756832  ],\n",
       "         [1.788204  , 1.796047  , 1.788204  , ..., 1.701931  ,\n",
       "          1.7254599 , 1.7254599 ]]]], dtype=float32)"
      ]
     },
     "execution_count": 12,
     "metadata": {},
     "output_type": "execute_result"
    }
   ],
   "source": [
    "prep(\"./images/image_0.jpg\")"
   ]
  },
  {
   "cell_type": "markdown",
   "id": "convertible-soldier",
   "metadata": {},
   "source": [
    "## Serial"
   ]
  },
  {
   "cell_type": "code",
   "execution_count": 4,
   "id": "alternative-disposition",
   "metadata": {
    "collapsed": true
   },
   "outputs": [
    {
     "name": "stdout",
     "output_type": "stream",
     "text": [
      "0 done!\n",
      "250 done!\n",
      "500 done!\n",
      "750 done!\n",
      "CPU times: user 12.1 s, sys: 1.65 s, total: 13.8 s\n",
      "Wall time: 24.2 s\n"
     ]
    }
   ],
   "source": [
    "%%time\n",
    "ls=[]\n",
    "for i in range(1000):\n",
    "    ls.append(prep(\"./images/image_{}.jpg\".format(i)))\n",
    "    if(i%250 == 0):\n",
    "        print(i,\"done!\")"
   ]
  },
  {
   "cell_type": "code",
   "execution_count": 5,
   "id": "deluxe-mississippi",
   "metadata": {
    "collapsed": true
   },
   "outputs": [
    {
     "name": "stdout",
     "output_type": "stream",
     "text": [
      "0 done!\n",
      "250 done!\n",
      "500 done!\n",
      "750 done!\n",
      "CPU times: user 3min 27s, sys: 17.9 s, total: 3min 45s\n",
      "Wall time: 50.9 s\n"
     ]
    }
   ],
   "source": [
    "%%time\n",
    "for i in range(1000):\n",
    "    tini(ls[i][0], ls[i][1], ls[i][2], ls[i][3], i)\n",
    "    if(i%250 == 0):\n",
    "        print(i,\"done!\")"
   ]
  },
  {
   "cell_type": "markdown",
   "id": "caroline-popularity",
   "metadata": {},
   "source": [
    "## Parallel 8 cores"
   ]
  },
  {
   "cell_type": "code",
   "execution_count": null,
   "id": "demographic-finding",
   "metadata": {},
   "outputs": [],
   "source": []
  },
  {
   "cell_type": "code",
   "execution_count": 12,
   "id": "under-foundation",
   "metadata": {},
   "outputs": [],
   "source": [
    "def parallel(k):\n",
    "  if(k==1):\n",
    "    for i in range(0,250):\n",
    "      tini(\"./images/image_{}.jpg\".format(i),i)\n",
    "  if(k==2):\n",
    "    for i in range(250,500):\n",
    "      tini(\"./images/image_{}.jpg\".format(i),i)\n",
    "  if(k==3):\n",
    "    for i in range(500,750):\n",
    "      tini(\"./images/image_{}.jpg\".format(i),i)\n",
    "  if(k==4):\n",
    "    for i in range(750,1000):\n",
    "      tini(\"./images/image_{}.jpg\".format(i),i)\n",
    "  if(k==5):\n",
    "    for i in range(1000,1250):\n",
    "      tini(\"./images/image_{}.jpg\".format(i),i)\n",
    "  if(k==6):\n",
    "    for i in range(1250,1500):\n",
    "      tini(\"./images/image_{}.jpg\".format(i),i)\n",
    "  if(k==7):\n",
    "    for i in range(1500,1750):\n",
    "      tini(\"./images/image_{}.jpg\".format(i),i)\n",
    "  if(k==8):\n",
    "    for i in range(1750,2000):\n",
    "      tini(\"./images/image_{}.jpg\".format(i),i)"
   ]
  },
  {
   "cell_type": "code",
   "execution_count": 13,
   "id": "sonic-liquid",
   "metadata": {},
   "outputs": [
    {
     "name": "stdout",
     "output_type": "stream",
     "text": [
      "CPU times: user 15.3 ms, sys: 38.2 ms, total: 53.5 ms\n",
      "Wall time: 53.3 s\n"
     ]
    }
   ],
   "source": [
    "%%time\n",
    "pool = multiprocessing.Pool(processes=8)\n",
    "result = pool.map(parallel, [1,2,3,4,5,6,7,8])"
   ]
  },
  {
   "cell_type": "markdown",
   "id": "perceived-capital",
   "metadata": {},
   "source": [
    "## Parallel 4 cores"
   ]
  },
  {
   "cell_type": "code",
   "execution_count": 3,
   "id": "reliable-debut",
   "metadata": {},
   "outputs": [],
   "source": [
    "def parallel_4(k):\n",
    "  if(k==1):\n",
    "    for i in range(0,500):\n",
    "      tini(\"./images/image_{}.jpg\".format(i),i)\n",
    "  if(k==2):\n",
    "    for i in range(500,1000):\n",
    "      tini(\"./images/image_{}.jpg\".format(i),i)\n",
    "  if(k==3):\n",
    "    for i in range(1000,1500):\n",
    "      tini(\"./images/image_{}.jpg\".format(i),i)\n",
    "  if(k==4):\n",
    "    for i in range(1500,2000):\n",
    "      tini(\"./images/image_{}.jpg\".format(i),i)"
   ]
  },
  {
   "cell_type": "code",
   "execution_count": null,
   "id": "greenhouse-emission",
   "metadata": {},
   "outputs": [],
   "source": [
    "%%time\n",
    "pool = multiprocessing.Pool(processes=4)\n",
    "result = pool.map(parallel_4, [1,2,3,4])"
   ]
  }
 ],
 "metadata": {
  "kernelspec": {
   "display_name": "Python 3",
   "language": "python",
   "name": "python3"
  },
  "language_info": {
   "codemirror_mode": {
    "name": "ipython",
    "version": 3
   },
   "file_extension": ".py",
   "mimetype": "text/x-python",
   "name": "python",
   "nbconvert_exporter": "python",
   "pygments_lexer": "ipython3",
   "version": "3.8.5"
  }
 },
 "nbformat": 4,
 "nbformat_minor": 5
}
