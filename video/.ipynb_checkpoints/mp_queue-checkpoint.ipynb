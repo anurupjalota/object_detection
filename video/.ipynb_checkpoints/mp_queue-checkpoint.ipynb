{
 "cells": [
  {
   "cell_type": "markdown",
   "id": "outdoor-physiology",
   "metadata": {},
   "source": [
    "## Importing"
   ]
  },
  {
   "cell_type": "code",
   "execution_count": 1,
   "id": "together-netscape",
   "metadata": {},
   "outputs": [],
   "source": [
    "import os\n",
    "import numpy as np\n",
    "import cv2\n",
    "import multiprocessing as mp\n",
    "import time\n",
    "import re\n",
    "import functools\n",
    "min_confidence = 0.2\n",
    "# size = 6000"
   ]
  },
  {
   "cell_type": "markdown",
   "id": "threatened-playlist",
   "metadata": {},
   "source": [
    "## for renaming the file (optional)"
   ]
  },
  {
   "cell_type": "code",
   "execution_count": null,
   "id": "dried-examination",
   "metadata": {},
   "outputs": [],
   "source": [
    "%%time\n",
    "path = './images/'\n",
    "i = 0\n",
    "for filename in os.listdir(path):\n",
    "    os.rename(os.path.join(path,filename), os.path.join(path,'image_'+str(i)+'.jpg'))\n",
    "    i = i +1"
   ]
  },
  {
   "cell_type": "markdown",
   "id": "swedish-mobility",
   "metadata": {},
   "source": [
    "## Video Input"
   ]
  },
  {
   "cell_type": "markdown",
   "id": "miniature-aruba",
   "metadata": {},
   "source": [
    "### Splitting"
   ]
  },
  {
   "cell_type": "code",
   "execution_count": 2,
   "id": "overall-relaxation",
   "metadata": {},
   "outputs": [],
   "source": [
    "def video_splitting(path,queue):\n",
    "    vidcap = cv2.VideoCapture(path) # big_buck_bunny_720p_5mb.mp4\n",
    "\n",
    "    success,image = vidcap.read()\n",
    "    count = 0\n",
    "\n",
    "    #clear directory of frames\n",
    "#     dir = './frames'\n",
    "#     for f in os.listdir(dir):\n",
    "#         os.remove(os.path.join(dir, f))\n",
    "\n",
    "    # success = False\n",
    "    while success:\n",
    "        queue.put([image,count])\n",
    "#         cv2.imwrite(\"./frames/frame%d.jpg\" % count, image)     # save frame as JPEG file    \n",
    "        success,image = vidcap.read()\n",
    "#         print('Read a new frame: ', success)\n",
    "        count += 1\n",
    "        \n",
    "    print(\"Splitting Done and Frames obtained: \",count)"
   ]
  },
  {
   "cell_type": "markdown",
   "id": "billion-olympus",
   "metadata": {},
   "source": [
    "### Joining"
   ]
  },
  {
   "cell_type": "code",
   "execution_count": 3,
   "id": "composite-limit",
   "metadata": {},
   "outputs": [],
   "source": [
    "def video_stitch(video_name,fps):\n",
    "    \n",
    "    images = [\"./image_output/{}_output.jpg\".format(i) for i in range(len(os.listdir('./image_output')))]\n",
    "#     images = [\"./frames/frame{}.jpg\".format(i) for i in range(len(os.listdir('./frames')))]\n",
    "\n",
    "    # print(len(images))\n",
    "    # print(type(images[0]))\n",
    "    # print(images[0])\n",
    "\n",
    "    frame = cv2.imread(images[0])\n",
    "\n",
    "    height, width = frame.shape[:2]\n",
    "\n",
    "    fourcc = cv2.VideoWriter_fourcc(*'mp4v') \n",
    "    video = cv2.VideoWriter(video_name, fourcc, fps, (width, height))\n",
    "\n",
    "    for image in images:\n",
    "        video.write(cv2.imread(image))\n",
    "    \n",
    "    cv2.destroyAllWindows()\n",
    "    video.release()"
   ]
  },
  {
   "cell_type": "markdown",
   "id": "incorporate-numbers",
   "metadata": {},
   "source": [
    "## class define and model load"
   ]
  },
  {
   "cell_type": "code",
   "execution_count": 4,
   "id": "attached-escape",
   "metadata": {},
   "outputs": [],
   "source": [
    "CLASSES = [\"background\", \"aeroplane\", \"bicycle\", \"bird\", \"boat\",\n",
    "    \"bottle\", \"bus\", \"car\", \"cat\", \"chair\", \"cow\", \"diningtable\",\n",
    "    \"dog\", \"horse\", \"motorbike\", \"person\", \"pottedplant\", \"sheep\",\n",
    "    \"sofa\", \"train\", \"tvmonitor\"]\n",
    "COLORS = np.random.uniform(0, 255, size=(len(CLASSES), 3))\n",
    "\n",
    "net = cv2.dnn.readNetFromCaffe(\"../MobileNetSSD_deploy.prototxt.txt\", \"../MobileNetSSD_deploy.caffemodel\")"
   ]
  },
  {
   "cell_type": "markdown",
   "id": "compound-salad",
   "metadata": {},
   "source": [
    "## function for detection"
   ]
  },
  {
   "cell_type": "code",
   "execution_count": 5,
   "id": "fluid-layer",
   "metadata": {},
   "outputs": [],
   "source": [
    "def prep(image, count, q):\n",
    "    #image load\n",
    "#     image = cv2.imread(img)\n",
    "    (h, w) = image.shape[:2]\n",
    "    blob = cv2.dnn.blobFromImage(cv2.resize(image, (300, 300)), 0.007843, (300, 300), 127.5)\n",
    "#     index = re.sub(\"\\D\", \"\", img)\n",
    "    q.put([blob,image,count])\n",
    "    return None\n",
    "\n",
    "def detect(queueIn):\n",
    "\n",
    "    arr, image, num = queueIn.get()\n",
    "    (h, w) = image.shape[:2]\n",
    "    #load image in model\n",
    "    net.setInput(arr)\n",
    "    detections = net.forward()\n",
    "\n",
    "    #look for match in image\n",
    "    for i in np.arange(0, detections.shape[2]):\n",
    "\n",
    "        #extract confidence from detected object\n",
    "        confidence = detections[0, 0, i, 2]\n",
    "\n",
    "        #filter out low confidence objects\n",
    "        if confidence > min_confidence:\n",
    "\n",
    "            idx = int(detections[0, 0, i, 1])\n",
    "            box = detections[0, 0, i, 3:7] * np.array([w, h, w, h])\n",
    "\n",
    "            (startX, startY, endX, endY) = box.astype(\"int\")\n",
    "\n",
    "            # display the prediction\n",
    "            label = \"{}: {:.2f}%\".format(CLASSES[idx], confidence * 100)\n",
    "#             print(\"[INFO] {}\".format(label))\n",
    "            cv2.rectangle(image, (startX, startY), (endX, endY), COLORS[idx], 2)\n",
    "\n",
    "            y = startY - 15 if startY - 15 > 15 else startY + 15\n",
    "            cv2.putText(image, label, (startX, y), cv2.FONT_HERSHEY_SIMPLEX, 0.5, COLORS[idx], 2)\n",
    "\n",
    "    # show the output image\n",
    "    cv2.imwrite(\"./image_output/{}_output.jpg\".format(num), image)\n",
    "    return None"
   ]
  },
  {
   "cell_type": "markdown",
   "id": "inappropriate-defeat",
   "metadata": {},
   "source": [
    "# Parallel"
   ]
  },
  {
   "cell_type": "code",
   "execution_count": 6,
   "id": "interpreted-lighting",
   "metadata": {},
   "outputs": [],
   "source": [
    "# qw = [\"./frames/frame{}.jpg\".format(i) for i in range(739)]\n",
    "m = mp.Manager()\n",
    "q_size = 100\n",
    "detect_q = m.Queue(q_size)\n",
    "split_q = m.Queue(q_size)"
   ]
  },
  {
   "cell_type": "markdown",
   "id": "convertible-soldier",
   "metadata": {},
   "source": [
    "## Parallel with 3 processors"
   ]
  },
  {
   "cell_type": "code",
   "execution_count": 20,
   "id": "alternative-disposition",
   "metadata": {},
   "outputs": [],
   "source": [
    "def fun(queueIn,queueOut,num):\n",
    "    i = 0\n",
    "    while True:\n",
    "#         print(num,\": \",i,\"prep\")\n",
    "        \n",
    "        if(i>10 and queueIn.empty()):\n",
    "            print(\"empty prep\")\n",
    "            break\n",
    "            \n",
    "        image,count = queueIn.get()\n",
    "        prep(image, count, queueOut)\n",
    "        \n",
    "        if(i%250 == 0):\n",
    "            print(num, i,\"prep done!\")\n",
    "                        \n",
    "        i+=1\n",
    "    pid = os.getpid()\n",
    "    print(f'prep {pid} done')"
   ]
  },
  {
   "cell_type": "code",
   "execution_count": 21,
   "id": "narrow-separate",
   "metadata": {},
   "outputs": [],
   "source": [
    "def fun1(queueIn,num):\n",
    "    i = 0\n",
    "    while True:\n",
    "#         print(num,\": \",i,\"detect\")\n",
    "        \n",
    "        if(i>10 and queueIn.empty()):\n",
    "            print(\"empty detect\")\n",
    "            break\n",
    "            \n",
    "        detect(queueIn)\n",
    "        if(i%250 == 0):\n",
    "            print(num,i,\"detect done!\")\n",
    "        i+=1\n",
    "    pid = os.getpid()\n",
    "    print(f'detect {pid} done')"
   ]
  },
  {
   "cell_type": "code",
   "execution_count": 51,
   "id": "funky-benchmark",
   "metadata": {
    "scrolled": false
   },
   "outputs": [
    {
     "name": "stdout",
     "output_type": "stream",
     "text": [
      "1 0 detect done!\n",
      "1 0 prep done!\n",
      "1 250 prep done!\n",
      "1 250 detect done!\n",
      "1 500 prep done!\n",
      "1 500 detect done!\n",
      "Splitting Done and Frames obtained:  739\n",
      "empty prep\n",
      "prep 5130 done\n",
      "empty detect\n",
      "detect 16053 done\n",
      "CPU times: user 6.78 s, sys: 4.69 s, total: 11.5 s\n",
      "Wall time: 44.5 s\n"
     ]
    }
   ],
   "source": [
    "%%time\n",
    "\n",
    "split_p = mp.Process(target=video_splitting, args=(\"big_buck_bunny_720p_5mb.mp4\",split_q)) #splitting\n",
    "split_p.daemon = True\n",
    "split_p.start()\n",
    "\n",
    "detect_p = mp.Process(target=fun1, args=(detect_q,1)) #detection\n",
    "detect_p.daemon = True\n",
    "detect_p.start()\n",
    "\n",
    "fun(split_q,detect_q,1) #preprocessing\n",
    "\n",
    "split_p.join()\n",
    "detect_p.join()"
   ]
  },
  {
   "cell_type": "code",
   "execution_count": null,
   "id": "competitive-chosen",
   "metadata": {},
   "outputs": [],
   "source": [
    "%%time\n",
    "\n",
    "split_p = mp.Process(target=video_splitting, args=(\"big_buck_bunny_720p_5mb.mp4\",split_q)) #splitting\n",
    "split_p.daemon = True\n",
    "split_p.start()\n",
    "\n",
    "detect_p = mp.Process(target=fun1, args=(detect_q,1)) #detection\n",
    "detect_p.daemon = True\n",
    "detect_p.start()\n",
    "\n",
    "prep_p = mp.Process(target=fun, args=(split_q,detect_q,1)) #preprocessing\n",
    "prep_p.daemon = True\n",
    "prep_p.start()\n",
    "\n",
    "\n",
    "\n",
    "split_p.join()\n",
    "detect_p.join()\n",
    "prep_p.join()"
   ]
  },
  {
   "cell_type": "code",
   "execution_count": 82,
   "id": "white-pilot",
   "metadata": {},
   "outputs": [
    {
     "data": {
      "text/plain": [
       "0"
      ]
     },
     "execution_count": 82,
     "metadata": {},
     "output_type": "execute_result"
    }
   ],
   "source": [
    "split_q.qsize()"
   ]
  },
  {
   "cell_type": "code",
   "execution_count": 83,
   "id": "intimate-development",
   "metadata": {},
   "outputs": [
    {
     "data": {
      "text/plain": [
       "0"
      ]
     },
     "execution_count": 83,
     "metadata": {},
     "output_type": "execute_result"
    }
   ],
   "source": [
    "detect_q.qsize()"
   ]
  },
  {
   "cell_type": "markdown",
   "id": "returning-lounge",
   "metadata": {},
   "source": [
    "## Parallel with 6 processors"
   ]
  },
  {
   "cell_type": "code",
   "execution_count": 14,
   "id": "capable-function",
   "metadata": {},
   "outputs": [],
   "source": [
    "def fps_calc(path):\n",
    "    vidcap = cv2.VideoCapture(path) # big_buck_bunny_720p_5mb.mp4\n",
    "\n",
    "    fps = vidcap.get(cv2.CAP_PROP_FPS)\n",
    "    frame_count = int(vidcap.get(cv2.CAP_PROP_FRAME_COUNT))\n",
    "    return fps,frame_count"
   ]
  },
  {
   "cell_type": "code",
   "execution_count": 15,
   "id": "structured-trademark",
   "metadata": {},
   "outputs": [
    {
     "data": {
      "text/plain": [
       "(25.0, 739)"
      ]
     },
     "execution_count": 15,
     "metadata": {},
     "output_type": "execute_result"
    }
   ],
   "source": [
    "fps_calc(\"big_buck_bunny_720p_5mb.mp4\")"
   ]
  },
  {
   "cell_type": "code",
   "execution_count": 18,
   "id": "hawaiian-campus",
   "metadata": {},
   "outputs": [],
   "source": [
    "def smap(f):\n",
    "    return f()\n",
    "\n",
    "def parallel(InPath,OutPath):\n",
    "    \n",
    "    fps,frame_count = fps_calc(InPath)\n",
    "    \n",
    "    split1 = functools.partial(video_splitting, InPath, split_q)\n",
    "    prep1 = functools.partial(fun, split_q, detect_q,1)\n",
    "    prep2 = functools.partial(fun, split_q, detect_q,2)\n",
    "    dete1 = functools.partial(fun1, detect_q,1)\n",
    "    dete2 = functools.partial(fun1, detect_q,2)\n",
    "    dete3 = functools.partial(fun1, detect_q,3)\n",
    "    pool = mp.Pool(processes=6)\n",
    "    \n",
    "    res = pool.map_async(smap, [split1, prep1, prep2, dete1, dete2, dete3])\n",
    "    pool.close()\n",
    "    pool.join()\n",
    "    \n",
    "    video_stitch(OutPath,fps)\n",
    "    \n",
    "    return None"
   ]
  },
  {
   "cell_type": "code",
   "execution_count": 19,
   "id": "decent-stack",
   "metadata": {},
   "outputs": [
    {
     "name": "stdout",
     "output_type": "stream",
     "text": [
      "1 0 prep done!\n",
      "2 0 prep done!\n",
      "2 0 3 detect done!0\n",
      " 1detect done! 0\n",
      " detect done!\n",
      "2 250 prep done!\n",
      "1 250 prep done!\n",
      "Splitting Done and Frames obtained:  739\n",
      "2 250 detect done!\n"
     ]
    },
    {
     "name": "stderr",
     "output_type": "stream",
     "text": [
      "Process ForkPoolWorker-8:\n",
      "Process ForkPoolWorker-13:\n",
      "Process ForkPoolWorker-12:\n",
      "Process ForkPoolWorker-11:\n",
      "Process ForkPoolWorker-9:\n",
      "Process ForkPoolWorker-10:\n",
      "Traceback (most recent call last):\n",
      "Traceback (most recent call last):\n",
      "Traceback (most recent call last):\n",
      "  File \"/usr/lib/python3.8/multiprocessing/process.py\", line 315, in _bootstrap\n",
      "    self.run()\n",
      "Traceback (most recent call last):\n",
      "Traceback (most recent call last):\n",
      "  File \"/usr/lib/python3.8/multiprocessing/process.py\", line 315, in _bootstrap\n",
      "    self.run()\n",
      "Traceback (most recent call last):\n",
      "  File \"/usr/lib/python3.8/multiprocessing/process.py\", line 315, in _bootstrap\n",
      "    self.run()\n",
      "  File \"/usr/lib/python3.8/multiprocessing/process.py\", line 108, in run\n",
      "    self._target(*self._args, **self._kwargs)\n",
      "  File \"/usr/lib/python3.8/multiprocessing/pool.py\", line 125, in worker\n",
      "    result = (True, func(*args, **kwds))\n",
      "  File \"/usr/lib/python3.8/multiprocessing/process.py\", line 315, in _bootstrap\n",
      "    self.run()\n",
      "  File \"/usr/lib/python3.8/multiprocessing/process.py\", line 315, in _bootstrap\n",
      "    self.run()\n",
      "  File \"/usr/lib/python3.8/multiprocessing/process.py\", line 108, in run\n",
      "    self._target(*self._args, **self._kwargs)\n",
      "  File \"/usr/lib/python3.8/multiprocessing/process.py\", line 315, in _bootstrap\n",
      "    self.run()\n",
      "  File \"/usr/lib/python3.8/multiprocessing/pool.py\", line 48, in mapstar\n",
      "    return list(map(*args))\n",
      "  File \"/usr/lib/python3.8/multiprocessing/process.py\", line 108, in run\n",
      "    self._target(*self._args, **self._kwargs)\n",
      "  File \"/usr/lib/python3.8/multiprocessing/process.py\", line 108, in run\n",
      "    self._target(*self._args, **self._kwargs)\n",
      "  File \"/usr/lib/python3.8/multiprocessing/process.py\", line 108, in run\n",
      "    self._target(*self._args, **self._kwargs)\n",
      "  File \"/usr/lib/python3.8/multiprocessing/pool.py\", line 114, in worker\n",
      "    task = get()\n",
      "  File \"/usr/lib/python3.8/multiprocessing/pool.py\", line 125, in worker\n",
      "    result = (True, func(*args, **kwds))\n",
      "  File \"/usr/lib/python3.8/multiprocessing/pool.py\", line 125, in worker\n",
      "    result = (True, func(*args, **kwds))\n",
      "  File \"/usr/lib/python3.8/multiprocessing/pool.py\", line 125, in worker\n",
      "    result = (True, func(*args, **kwds))\n",
      "  File \"<ipython-input-18-db844bea043e>\", line 2, in smap\n",
      "    return f()\n",
      "  File \"/usr/lib/python3.8/multiprocessing/queues.py\", line 356, in get\n",
      "    res = self._reader.recv_bytes()\n",
      "  File \"/usr/lib/python3.8/multiprocessing/process.py\", line 108, in run\n",
      "    self._target(*self._args, **self._kwargs)\n",
      "  File \"<ipython-input-16-bbfe9faa0338>\", line 10, in fun1\n",
      "    detect(queueIn)\n",
      "  File \"/usr/lib/python3.8/multiprocessing/pool.py\", line 48, in mapstar\n",
      "    return list(map(*args))\n",
      "  File \"/usr/lib/python3.8/multiprocessing/pool.py\", line 125, in worker\n",
      "    result = (True, func(*args, **kwds))\n",
      "  File \"/usr/lib/python3.8/multiprocessing/pool.py\", line 48, in mapstar\n",
      "    return list(map(*args))\n",
      "  File \"/usr/lib/python3.8/multiprocessing/pool.py\", line 48, in mapstar\n",
      "    return list(map(*args))\n",
      "  File \"/usr/lib/python3.8/multiprocessing/connection.py\", line 216, in recv_bytes\n",
      "    buf = self._recv_bytes(maxlength)\n",
      "  File \"<ipython-input-5-81ed59006deb>\", line 12, in detect\n",
      "    arr, image, num = queueIn.get()\n",
      "  File \"<ipython-input-18-db844bea043e>\", line 2, in smap\n",
      "    return f()\n",
      "  File \"<ipython-input-18-db844bea043e>\", line 2, in smap\n",
      "    return f()\n",
      "  File \"<ipython-input-18-db844bea043e>\", line 2, in smap\n",
      "    return f()\n",
      "  File \"/usr/lib/python3.8/multiprocessing/pool.py\", line 48, in mapstar\n",
      "    return list(map(*args))\n",
      "  File \"<ipython-input-17-df26519bee40>\", line 10, in fun\n",
      "    image,count = queueIn.get()\n",
      "  File \"<string>\", line 2, in get\n",
      "  File \"<ipython-input-16-bbfe9faa0338>\", line 10, in fun1\n",
      "    detect(queueIn)\n",
      "  File \"<string>\", line 2, in get\n",
      "  File \"<ipython-input-18-db844bea043e>\", line 2, in smap\n",
      "    return f()\n",
      "  File \"/usr/lib/python3.8/multiprocessing/connection.py\", line 414, in _recv_bytes\n",
      "    buf = self._recv(4)\n",
      "  File \"/usr/lib/python3.8/multiprocessing/managers.py\", line 835, in _callmethod\n",
      "    kind, result = conn.recv()\n",
      "  File \"<ipython-input-17-df26519bee40>\", line 10, in fun\n",
      "    image,count = queueIn.get()\n",
      "  File \"<ipython-input-16-bbfe9faa0338>\", line 10, in fun1\n",
      "    detect(queueIn)\n",
      "  File \"/usr/lib/python3.8/multiprocessing/connection.py\", line 379, in _recv\n",
      "    chunk = read(handle, remaining)\n",
      "  File \"/usr/lib/python3.8/multiprocessing/connection.py\", line 250, in recv\n",
      "    buf = self._recv_bytes()\n",
      "  File \"<ipython-input-5-81ed59006deb>\", line 12, in detect\n",
      "    arr, image, num = queueIn.get()\n",
      "  File \"<string>\", line 2, in get\n",
      "  File \"/usr/lib/python3.8/multiprocessing/managers.py\", line 835, in _callmethod\n",
      "    kind, result = conn.recv()\n",
      "KeyboardInterrupt\n",
      "  File \"<ipython-input-5-81ed59006deb>\", line 12, in detect\n",
      "    arr, image, num = queueIn.get()\n",
      "  File \"/usr/lib/python3.8/multiprocessing/connection.py\", line 414, in _recv_bytes\n",
      "    buf = self._recv(4)\n",
      "  File \"/usr/lib/python3.8/multiprocessing/managers.py\", line 835, in _callmethod\n",
      "    kind, result = conn.recv()\n",
      "  File \"<string>\", line 2, in get\n",
      "  File \"/usr/lib/python3.8/multiprocessing/connection.py\", line 250, in recv\n",
      "    buf = self._recv_bytes()\n",
      "  File \"<string>\", line 2, in get\n",
      "  File \"/usr/lib/python3.8/multiprocessing/managers.py\", line 835, in _callmethod\n",
      "    kind, result = conn.recv()\n",
      "  File \"/usr/lib/python3.8/multiprocessing/connection.py\", line 379, in _recv\n",
      "    chunk = read(handle, remaining)\n",
      "  File \"/usr/lib/python3.8/multiprocessing/connection.py\", line 414, in _recv_bytes\n",
      "    buf = self._recv(4)\n",
      "KeyboardInterrupt\n",
      "  File \"/usr/lib/python3.8/multiprocessing/managers.py\", line 835, in _callmethod\n",
      "    kind, result = conn.recv()\n",
      "  File \"/usr/lib/python3.8/multiprocessing/connection.py\", line 250, in recv\n",
      "    buf = self._recv_bytes()\n",
      "  File \"/usr/lib/python3.8/multiprocessing/connection.py\", line 379, in _recv\n",
      "    chunk = read(handle, remaining)\n",
      "  File \"/usr/lib/python3.8/multiprocessing/connection.py\", line 250, in recv\n",
      "    buf = self._recv_bytes()\n",
      "KeyboardInterrupt\n",
      "  File \"/usr/lib/python3.8/multiprocessing/connection.py\", line 414, in _recv_bytes\n",
      "    buf = self._recv(4)\n",
      "  File \"/usr/lib/python3.8/multiprocessing/connection.py\", line 414, in _recv_bytes\n",
      "    buf = self._recv(4)\n",
      "  File \"/usr/lib/python3.8/multiprocessing/connection.py\", line 379, in _recv\n",
      "    chunk = read(handle, remaining)\n",
      "KeyboardInterrupt\n",
      "  File \"/usr/lib/python3.8/multiprocessing/connection.py\", line 379, in _recv\n",
      "    chunk = read(handle, remaining)\n",
      "KeyboardInterrupt\n",
      "  File \"/usr/lib/python3.8/multiprocessing/connection.py\", line 250, in recv\n",
      "    buf = self._recv_bytes()\n",
      "  File \"/usr/lib/python3.8/multiprocessing/connection.py\", line 414, in _recv_bytes\n",
      "    buf = self._recv(4)\n",
      "  File \"/usr/lib/python3.8/multiprocessing/connection.py\", line 379, in _recv\n",
      "    chunk = read(handle, remaining)\n",
      "KeyboardInterrupt\n"
     ]
    },
    {
     "ename": "KeyboardInterrupt",
     "evalue": "",
     "output_type": "error",
     "traceback": [
      "\u001b[0;31m---------------------------------------------------------------------------\u001b[0m",
      "\u001b[0;31mKeyboardInterrupt\u001b[0m                         Traceback (most recent call last)",
      "\u001b[0;32m<timed eval>\u001b[0m in \u001b[0;36m<module>\u001b[0;34m\u001b[0m\n",
      "\u001b[0;32m<ipython-input-18-db844bea043e>\u001b[0m in \u001b[0;36mparallel\u001b[0;34m(InPath, OutPath)\u001b[0m\n\u001b[1;32m     16\u001b[0m     \u001b[0mres\u001b[0m \u001b[0;34m=\u001b[0m \u001b[0mpool\u001b[0m\u001b[0;34m.\u001b[0m\u001b[0mmap_async\u001b[0m\u001b[0;34m(\u001b[0m\u001b[0msmap\u001b[0m\u001b[0;34m,\u001b[0m \u001b[0;34m[\u001b[0m\u001b[0msplit1\u001b[0m\u001b[0;34m,\u001b[0m \u001b[0mprep1\u001b[0m\u001b[0;34m,\u001b[0m \u001b[0mprep2\u001b[0m\u001b[0;34m,\u001b[0m \u001b[0mdete1\u001b[0m\u001b[0;34m,\u001b[0m \u001b[0mdete2\u001b[0m\u001b[0;34m,\u001b[0m \u001b[0mdete3\u001b[0m\u001b[0;34m]\u001b[0m\u001b[0;34m)\u001b[0m\u001b[0;34m\u001b[0m\u001b[0;34m\u001b[0m\u001b[0m\n\u001b[1;32m     17\u001b[0m     \u001b[0mpool\u001b[0m\u001b[0;34m.\u001b[0m\u001b[0mclose\u001b[0m\u001b[0;34m(\u001b[0m\u001b[0;34m)\u001b[0m\u001b[0;34m\u001b[0m\u001b[0;34m\u001b[0m\u001b[0m\n\u001b[0;32m---> 18\u001b[0;31m     \u001b[0mpool\u001b[0m\u001b[0;34m.\u001b[0m\u001b[0mjoin\u001b[0m\u001b[0;34m(\u001b[0m\u001b[0;34m)\u001b[0m\u001b[0;34m\u001b[0m\u001b[0;34m\u001b[0m\u001b[0m\n\u001b[0m\u001b[1;32m     19\u001b[0m \u001b[0;34m\u001b[0m\u001b[0m\n\u001b[1;32m     20\u001b[0m     \u001b[0mvideo_stitch\u001b[0m\u001b[0;34m(\u001b[0m\u001b[0mOutPath\u001b[0m\u001b[0;34m,\u001b[0m\u001b[0mfps\u001b[0m\u001b[0;34m)\u001b[0m\u001b[0;34m\u001b[0m\u001b[0;34m\u001b[0m\u001b[0m\n",
      "\u001b[0;32m/usr/lib/python3.8/multiprocessing/pool.py\u001b[0m in \u001b[0;36mjoin\u001b[0;34m(self)\u001b[0m\n\u001b[1;32m    660\u001b[0m         \u001b[0;32melif\u001b[0m \u001b[0mself\u001b[0m\u001b[0;34m.\u001b[0m\u001b[0m_state\u001b[0m \u001b[0;32mnot\u001b[0m \u001b[0;32min\u001b[0m \u001b[0;34m(\u001b[0m\u001b[0mCLOSE\u001b[0m\u001b[0;34m,\u001b[0m \u001b[0mTERMINATE\u001b[0m\u001b[0;34m)\u001b[0m\u001b[0;34m:\u001b[0m\u001b[0;34m\u001b[0m\u001b[0;34m\u001b[0m\u001b[0m\n\u001b[1;32m    661\u001b[0m             \u001b[0;32mraise\u001b[0m \u001b[0mValueError\u001b[0m\u001b[0;34m(\u001b[0m\u001b[0;34m\"In unknown state\"\u001b[0m\u001b[0;34m)\u001b[0m\u001b[0;34m\u001b[0m\u001b[0;34m\u001b[0m\u001b[0m\n\u001b[0;32m--> 662\u001b[0;31m         \u001b[0mself\u001b[0m\u001b[0;34m.\u001b[0m\u001b[0m_worker_handler\u001b[0m\u001b[0;34m.\u001b[0m\u001b[0mjoin\u001b[0m\u001b[0;34m(\u001b[0m\u001b[0;34m)\u001b[0m\u001b[0;34m\u001b[0m\u001b[0;34m\u001b[0m\u001b[0m\n\u001b[0m\u001b[1;32m    663\u001b[0m         \u001b[0mself\u001b[0m\u001b[0;34m.\u001b[0m\u001b[0m_task_handler\u001b[0m\u001b[0;34m.\u001b[0m\u001b[0mjoin\u001b[0m\u001b[0;34m(\u001b[0m\u001b[0;34m)\u001b[0m\u001b[0;34m\u001b[0m\u001b[0;34m\u001b[0m\u001b[0m\n\u001b[1;32m    664\u001b[0m         \u001b[0mself\u001b[0m\u001b[0;34m.\u001b[0m\u001b[0m_result_handler\u001b[0m\u001b[0;34m.\u001b[0m\u001b[0mjoin\u001b[0m\u001b[0;34m(\u001b[0m\u001b[0;34m)\u001b[0m\u001b[0;34m\u001b[0m\u001b[0;34m\u001b[0m\u001b[0m\n",
      "\u001b[0;32m/usr/lib/python3.8/threading.py\u001b[0m in \u001b[0;36mjoin\u001b[0;34m(self, timeout)\u001b[0m\n\u001b[1;32m   1009\u001b[0m \u001b[0;34m\u001b[0m\u001b[0m\n\u001b[1;32m   1010\u001b[0m         \u001b[0;32mif\u001b[0m \u001b[0mtimeout\u001b[0m \u001b[0;32mis\u001b[0m \u001b[0;32mNone\u001b[0m\u001b[0;34m:\u001b[0m\u001b[0;34m\u001b[0m\u001b[0;34m\u001b[0m\u001b[0m\n\u001b[0;32m-> 1011\u001b[0;31m             \u001b[0mself\u001b[0m\u001b[0;34m.\u001b[0m\u001b[0m_wait_for_tstate_lock\u001b[0m\u001b[0;34m(\u001b[0m\u001b[0;34m)\u001b[0m\u001b[0;34m\u001b[0m\u001b[0;34m\u001b[0m\u001b[0m\n\u001b[0m\u001b[1;32m   1012\u001b[0m         \u001b[0;32melse\u001b[0m\u001b[0;34m:\u001b[0m\u001b[0;34m\u001b[0m\u001b[0;34m\u001b[0m\u001b[0m\n\u001b[1;32m   1013\u001b[0m             \u001b[0;31m# the behavior of a negative timeout isn't documented, but\u001b[0m\u001b[0;34m\u001b[0m\u001b[0;34m\u001b[0m\u001b[0;34m\u001b[0m\u001b[0m\n",
      "\u001b[0;32m/usr/lib/python3.8/threading.py\u001b[0m in \u001b[0;36m_wait_for_tstate_lock\u001b[0;34m(self, block, timeout)\u001b[0m\n\u001b[1;32m   1025\u001b[0m         \u001b[0;32mif\u001b[0m \u001b[0mlock\u001b[0m \u001b[0;32mis\u001b[0m \u001b[0;32mNone\u001b[0m\u001b[0;34m:\u001b[0m  \u001b[0;31m# already determined that the C code is done\u001b[0m\u001b[0;34m\u001b[0m\u001b[0;34m\u001b[0m\u001b[0m\n\u001b[1;32m   1026\u001b[0m             \u001b[0;32massert\u001b[0m \u001b[0mself\u001b[0m\u001b[0;34m.\u001b[0m\u001b[0m_is_stopped\u001b[0m\u001b[0;34m\u001b[0m\u001b[0;34m\u001b[0m\u001b[0m\n\u001b[0;32m-> 1027\u001b[0;31m         \u001b[0;32melif\u001b[0m \u001b[0mlock\u001b[0m\u001b[0;34m.\u001b[0m\u001b[0macquire\u001b[0m\u001b[0;34m(\u001b[0m\u001b[0mblock\u001b[0m\u001b[0;34m,\u001b[0m \u001b[0mtimeout\u001b[0m\u001b[0;34m)\u001b[0m\u001b[0;34m:\u001b[0m\u001b[0;34m\u001b[0m\u001b[0;34m\u001b[0m\u001b[0m\n\u001b[0m\u001b[1;32m   1028\u001b[0m             \u001b[0mlock\u001b[0m\u001b[0;34m.\u001b[0m\u001b[0mrelease\u001b[0m\u001b[0;34m(\u001b[0m\u001b[0;34m)\u001b[0m\u001b[0;34m\u001b[0m\u001b[0;34m\u001b[0m\u001b[0m\n\u001b[1;32m   1029\u001b[0m             \u001b[0mself\u001b[0m\u001b[0;34m.\u001b[0m\u001b[0m_stop\u001b[0m\u001b[0;34m(\u001b[0m\u001b[0;34m)\u001b[0m\u001b[0;34m\u001b[0m\u001b[0;34m\u001b[0m\u001b[0m\n",
      "\u001b[0;31mKeyboardInterrupt\u001b[0m: "
     ]
    }
   ],
   "source": [
    "%%time\n",
    "parallel(\"big_buck_bunny_720p_5mb.mp4\",'test_output/vid5.mp4')"
   ]
  }
 ],
 "metadata": {
  "kernelspec": {
   "display_name": "Python 3",
   "language": "python",
   "name": "python3"
  },
  "language_info": {
   "codemirror_mode": {
    "name": "ipython",
    "version": 3
   },
   "file_extension": ".py",
   "mimetype": "text/x-python",
   "name": "python",
   "nbconvert_exporter": "python",
   "pygments_lexer": "ipython3",
   "version": "3.8.5"
  }
 },
 "nbformat": 4,
 "nbformat_minor": 5
}
