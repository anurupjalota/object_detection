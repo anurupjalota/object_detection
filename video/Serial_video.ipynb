{
 "cells": [
  {
   "cell_type": "markdown",
   "id": "outdoor-physiology",
   "metadata": {},
   "source": [
    "## Importing"
   ]
  },
  {
   "cell_type": "code",
   "execution_count": 1,
   "id": "together-netscape",
   "metadata": {},
   "outputs": [],
   "source": [
    "import os\n",
    "import numpy as np\n",
    "import cv2\n",
    "import multiprocessing as mp\n",
    "import time\n",
    "import re\n",
    "import functools\n",
    "min_confidence = 0.2\n",
    "# size = 6000"
   ]
  },
  {
   "cell_type": "markdown",
   "id": "threatened-playlist",
   "metadata": {},
   "source": [
    "## for renaming the file (optional)"
   ]
  },
  {
   "cell_type": "code",
   "execution_count": null,
   "id": "dried-examination",
   "metadata": {},
   "outputs": [],
   "source": [
    "%%time\n",
    "path = './images/'\n",
    "i = 0\n",
    "for filename in os.listdir(path):\n",
    "    os.rename(os.path.join(path,filename), os.path.join(path,'image_'+str(i)+'.jpg'))\n",
    "    i = i +1"
   ]
  },
  {
   "cell_type": "markdown",
   "id": "swedish-mobility",
   "metadata": {},
   "source": [
    "## Video Input"
   ]
  },
  {
   "cell_type": "code",
   "execution_count": 2,
   "id": "reduced-ceramic",
   "metadata": {},
   "outputs": [],
   "source": [
    "def serial_video(pathIn,pathOut):\n",
    "    \n",
    "    vidcap = cv2.VideoCapture(pathIn) # big_buck_bunny_720p_5mb.mp4\n",
    "\n",
    "    success,image = vidcap.read()\n",
    "    height, width = image.shape[:2]\n",
    "\n",
    "    fourcc = cv2.VideoWriter_fourcc(*'mp4v') \n",
    "    fps = vidcap.get(cv2.CAP_PROP_FPS)\n",
    "    video = cv2.VideoWriter(pathOut, fourcc, fps, (width, height))\n",
    "    \n",
    "    count = 0\n",
    "    \n",
    "    #image_left\n",
    "\n",
    "    while success: \n",
    "        blob,img = prep(image)\n",
    "        image_temp = detect(blob,image)\n",
    "        video.write(image_temp)\n",
    "        \n",
    "        success,image = vidcap.read()\n",
    "        #         print('Read ', count)\n",
    "        count += 1\n",
    "        \n",
    "#     print(count)\n",
    "    cv2.destroyAllWindows()\n",
    "    video.release()"
   ]
  },
  {
   "cell_type": "code",
   "execution_count": 7,
   "id": "quantitative-company",
   "metadata": {},
   "outputs": [
    {
     "name": "stdout",
     "output_type": "stream",
     "text": [
      "Serial Implementation of Video\n",
      "CPU times: user 14min 13s, sys: 50.4 s, total: 15min 3s\n",
      "Wall time: 2min 53s\n"
     ]
    }
   ],
   "source": [
    "%%time\n",
    "print(\"Serial Implementation of Video\")\n",
    "serial_video(\"peopleWalking.mp4\",\"output/serial1.mp4\")"
   ]
  },
  {
   "cell_type": "code",
   "execution_count": 3,
   "id": "composite-limit",
   "metadata": {},
   "outputs": [],
   "source": [
    "def video_stitch(video_name,queue,fps,frame_count):\n",
    "    \n",
    "#     images = [\"./image_output/{}_output.jpg\".format(i) for i in range(len(os.listdir('./image_output')))]\n",
    "#     images = [\"./frames/frame{}.jpg\".format(i) for i in range(len(os.listdir('./frames')))]\n",
    "\n",
    "    # print(len(images))\n",
    "    # print(type(images[0]))\n",
    "    # print(images[0])\n",
    "\n",
    "    image_temp = queue.get()\n",
    "\n",
    "    height, width = image_temp.shape[:2]\n",
    "\n",
    "    fourcc = cv2.VideoWriter_fourcc(*'mp4v') \n",
    "    video = cv2.VideoWriter(video_name, fourcc, fps, (width, height))\n",
    "    \n",
    "    video.write(image_temp)\n",
    "    \n",
    "#     for image in images:\n",
    "#     while True:\n",
    "    for i in range(frame_count-1):\n",
    "            \n",
    "        video.write(queue.get())\n",
    "#         if(i%100==0):\n",
    "#             print(i,\" stitch done\")\n",
    "\n",
    "    pid = os.getpid()\n",
    "    print(f'stitch {pid} done')\n",
    "\n",
    "    cv2.destroyAllWindows()\n",
    "    video.release()\n",
    "    \n",
    "#     print(\"destroyed\")"
   ]
  },
  {
   "cell_type": "markdown",
   "id": "miniature-aruba",
   "metadata": {},
   "source": [
    "### Splitting"
   ]
  },
  {
   "cell_type": "code",
   "execution_count": 2,
   "id": "overall-relaxation",
   "metadata": {},
   "outputs": [],
   "source": [
    "def video_splitting(path,queue):\n",
    "    vidcap = cv2.VideoCapture(path) # big_buck_bunny_720p_5mb.mp4\n",
    "\n",
    "    success,image = vidcap.read()\n",
    "    count = 0\n",
    "\n",
    "    #clear directory of frames\n",
    "#     dir = './frames'\n",
    "#     for f in os.listdir(dir):\n",
    "#         os.remove(os.path.join(dir, f))\n",
    "\n",
    "    # success = False\n",
    "    while success:\n",
    "#     for i in range(100):\n",
    "        queue.put([image,count])\n",
    "#         cv2.imwrite(\"./frames/frame%d.jpg\" % count, image)     # save frame as JPEG file    \n",
    "        success,image = vidcap.read()\n",
    "#         print('Read ', count)\n",
    "        count += 1\n",
    "    \n",
    "    pid = os.getpid()\n",
    "    print(f\"Splitting Done and Frames obtained: {count} with {pid}\")"
   ]
  },
  {
   "cell_type": "markdown",
   "id": "billion-olympus",
   "metadata": {},
   "source": [
    "### Joining"
   ]
  },
  {
   "cell_type": "markdown",
   "id": "incorporate-numbers",
   "metadata": {},
   "source": [
    "## class define and model load"
   ]
  },
  {
   "cell_type": "code",
   "execution_count": 6,
   "id": "attached-escape",
   "metadata": {},
   "outputs": [],
   "source": [
    "CLASSES = [\"background\", \"aeroplane\", \"bicycle\", \"bird\", \"boat\",\n",
    "    \"bottle\", \"bus\", \"car\", \"cat\", \"chair\", \"cow\", \"diningtable\",\n",
    "    \"dog\", \"horse\", \"motorbike\", \"person\", \"pottedplant\", \"sheep\",\n",
    "    \"sofa\", \"train\", \"tvmonitor\"]\n",
    "COLORS = np.random.uniform(0, 255, size=(len(CLASSES), 3))\n",
    "\n",
    "net = cv2.dnn.readNetFromCaffe(\"../MobileNetSSD_deploy.prototxt.txt\", \"../MobileNetSSD_deploy.caffemodel\")"
   ]
  },
  {
   "cell_type": "markdown",
   "id": "compound-salad",
   "metadata": {},
   "source": [
    "## function for detection"
   ]
  },
  {
   "cell_type": "code",
   "execution_count": 4,
   "id": "fluid-layer",
   "metadata": {},
   "outputs": [],
   "source": [
    "def prep(image):\n",
    "#     image = cv2.imread(img)\n",
    "    (h, w) = image.shape[:2]\n",
    "    blob = cv2.dnn.blobFromImage(cv2.resize(image, (300, 300)), 0.007843, (300, 300), 127.5)\n",
    "    return blob,image\n",
    "\n",
    "def detect(blob,image):\n",
    "    \n",
    "    (h, w) = image.shape[:2]\n",
    "    #load image in model\n",
    "    net.setInput(blob)\n",
    "    detections = net.forward()\n",
    "\n",
    "    #look for match in image\n",
    "    for i in np.arange(0, detections.shape[2]):\n",
    "\n",
    "        #extract confidence from detected object\n",
    "        confidence = detections[0, 0, i, 2]\n",
    "\n",
    "        #filter out low confidence objects\n",
    "        if confidence > min_confidence:\n",
    "\n",
    "            idx = int(detections[0, 0, i, 1])\n",
    "            box = detections[0, 0, i, 3:7] * np.array([w, h, w, h])\n",
    "\n",
    "            (startX, startY, endX, endY) = box.astype(\"int\")\n",
    "\n",
    "            # display the prediction\n",
    "            label = \"{}: {:.2f}%\".format(CLASSES[idx], confidence * 100)\n",
    "#             print(\"[INFO] {}\".format(label))\n",
    "            cv2.rectangle(image, (startX, startY), (endX, endY), COLORS[idx], 2)\n",
    "\n",
    "            y = startY - 15 if startY - 15 > 15 else startY + 15\n",
    "            cv2.putText(image, label, (startX, y), cv2.FONT_HERSHEY_SIMPLEX, 0.5, COLORS[idx], 2)\n",
    "\n",
    "    # show the output image\n",
    "#     cv2.imwrite(\"./image_output/1_output.jpg\", image)\n",
    "    return image"
   ]
  },
  {
   "cell_type": "code",
   "execution_count": 10,
   "id": "interstate-accordance",
   "metadata": {},
   "outputs": [],
   "source": [
    "b,i = prep(\"./frames/image_0.jpg\")\n",
    "detect(b,i)"
   ]
  },
  {
   "cell_type": "markdown",
   "id": "inappropriate-defeat",
   "metadata": {},
   "source": [
    "# Parallel"
   ]
  },
  {
   "cell_type": "code",
   "execution_count": 6,
   "id": "interpreted-lighting",
   "metadata": {},
   "outputs": [],
   "source": [
    "# qw = [\"./frames/frame{}.jpg\".format(i) for i in range(739)]\n",
    "m = mp.Manager()\n",
    "q_size = 200\n",
    "detect_q = m.Queue(q_size)\n",
    "split_q = m.Queue(q_size)\n",
    "stitch_q = m.Queue(q_size)"
   ]
  },
  {
   "cell_type": "code",
   "execution_count": 7,
   "id": "optical-parts",
   "metadata": {},
   "outputs": [
    {
     "data": {
      "text/plain": [
       "0"
      ]
     },
     "execution_count": 7,
     "metadata": {},
     "output_type": "execute_result"
    }
   ],
   "source": [
    "stitch_q.qsize()"
   ]
  },
  {
   "cell_type": "code",
   "execution_count": null,
   "id": "practical-louisville",
   "metadata": {},
   "outputs": [],
   "source": [
    "for i in range(100):\n",
    "    print(stitch_q.get())"
   ]
  },
  {
   "cell_type": "markdown",
   "id": "convertible-soldier",
   "metadata": {},
   "source": [
    "## Parallel with 3 processors"
   ]
  },
  {
   "cell_type": "code",
   "execution_count": 7,
   "id": "alternative-disposition",
   "metadata": {},
   "outputs": [],
   "source": [
    "def fun(queueIn,queueOut,frame_count,num):\n",
    "    \n",
    "    for i in range(frame_count):\n",
    "#         print(num,\": \",i,\"prep\")\n",
    "        \n",
    "#         if(i>10 and queueIn.empty()):\n",
    "#             print(\"empty prep\")\n",
    "#             break\n",
    "            \n",
    "        image,count = queueIn.get()\n",
    "        prep(image, count, queueOut)\n",
    "        \n",
    "#         if(i%250 == 0):\n",
    "#             print(num, i,\"prep done!\")\n",
    "            \n",
    "    pid = os.getpid()\n",
    "    print(f'prep {pid} done')"
   ]
  },
  {
   "cell_type": "code",
   "execution_count": 8,
   "id": "narrow-separate",
   "metadata": {},
   "outputs": [],
   "source": [
    "def fun1(queueIn,queueOut,frame_count,num):\n",
    "\n",
    "    for i in range(frame_count):\n",
    "#         print(num,\": \",i,\"detect\")\n",
    "        \n",
    "#         if(i>10 and queueIn.empty()):\n",
    "#             print(\"empty detect\")\n",
    "#             break\n",
    "            \n",
    "        detect(queueIn,queueOut)\n",
    "#         if(i%250 == 0):\n",
    "#             print(num,i,\"detect done!\")\n",
    "    pid = os.getpid()\n",
    "    print(f'detect {pid} done')"
   ]
  },
  {
   "cell_type": "code",
   "execution_count": 14,
   "id": "neutral-citizenship",
   "metadata": {},
   "outputs": [],
   "source": [
    "def fps_calc(path):\n",
    "    vidcap = cv2.VideoCapture(path) # big_buck_bunny_720p_5mb.mp4\n",
    "\n",
    "    fps = vidcap.get(cv2.CAP_PROP_FPS)\n",
    "    frame_count = int(vidcap.get(cv2.CAP_PROP_FRAME_COUNT))\n",
    "    return fps,frame_count"
   ]
  },
  {
   "cell_type": "code",
   "execution_count": 22,
   "id": "statutory-puppy",
   "metadata": {},
   "outputs": [
    {
     "data": {
      "text/plain": [
       "(29.97002997002997, 444)"
      ]
     },
     "execution_count": 22,
     "metadata": {},
     "output_type": "execute_result"
    }
   ],
   "source": [
    "fps_calc(\"video_2.mp4\")"
   ]
  },
  {
   "cell_type": "code",
   "execution_count": 10,
   "id": "communist-supplement",
   "metadata": {},
   "outputs": [
    {
     "name": "stdout",
     "output_type": "stream",
     "text": [
      "Splitting Done and Frames obtained: 444 with 18114\n",
      "prep 18121 done\n",
      "detect 18116 done\n",
      "stitch 18127 done\n",
      "CPU times: user 160 ms, sys: 49.6 ms, total: 210 ms\n",
      "Wall time: 36.1 s\n"
     ]
    }
   ],
   "source": [
    "%%time\n",
    "video_name = \"video_2.mp4\"\n",
    "fps,frame_count = fps_calc(video_name)\n",
    "split_p = mp.Process(target=video_splitting, args=(video_name,split_q)) #splitting\n",
    "split_p.daemon = True\n",
    "split_p.start()\n",
    "\n",
    "detect_p = mp.Process(target=fun1, args=(detect_q,stitch_q,frame_count,1)) #detection\n",
    "detect_p.daemon = True\n",
    "detect_p.start()\n",
    "\n",
    "prep_p = mp.Process(target=fun, args=(split_q,detect_q,frame_count,1)) #preprocessing\n",
    "prep_p.daemon = True\n",
    "prep_p.start()\n",
    "\n",
    "stitch_p = mp.Process(target=video_stitch, args=('test_output/vid_3.mp4',stitch_q,fps,frame_count)) #stitching\n",
    "stitch_p.daemon = True\n",
    "stitch_p.start()\n",
    "\n",
    "split_p.join()\n",
    "detect_p.join()\n",
    "prep_p.join()\n",
    "stitch_p.join()"
   ]
  },
  {
   "cell_type": "code",
   "execution_count": 82,
   "id": "white-pilot",
   "metadata": {},
   "outputs": [
    {
     "data": {
      "text/plain": [
       "0"
      ]
     },
     "execution_count": 82,
     "metadata": {},
     "output_type": "execute_result"
    }
   ],
   "source": [
    "split_q.qsize()"
   ]
  },
  {
   "cell_type": "code",
   "execution_count": 83,
   "id": "intimate-development",
   "metadata": {},
   "outputs": [
    {
     "data": {
      "text/plain": [
       "0"
      ]
     },
     "execution_count": 83,
     "metadata": {},
     "output_type": "execute_result"
    }
   ],
   "source": [
    "detect_q.qsize()"
   ]
  },
  {
   "cell_type": "markdown",
   "id": "returning-lounge",
   "metadata": {},
   "source": [
    "## Parallel with 5 processors"
   ]
  },
  {
   "cell_type": "code",
   "execution_count": 35,
   "id": "capable-function",
   "metadata": {},
   "outputs": [],
   "source": [
    "def fps_calc(path):\n",
    "    vidcap = cv2.VideoCapture(path) # big_buck_bunny_720p_5mb.mp4\n",
    "\n",
    "    fps = vidcap.get(cv2.CAP_PROP_FPS)\n",
    "    return fps"
   ]
  },
  {
   "cell_type": "code",
   "execution_count": 36,
   "id": "hawaiian-campus",
   "metadata": {},
   "outputs": [],
   "source": [
    "def smap(f):\n",
    "    return f()\n",
    "\n",
    "def parallel(InPath,OutPath):\n",
    "    \n",
    "    fps = fps_calc(InPath)\n",
    "    \n",
    "    split1 = functools.partial(video_splitting, InPath, split_q)\n",
    "    prep1 = functools.partial(fun, split_q, detect_q,1)\n",
    "    prep2 = functools.partial(fun, split_q, detect_q,2)\n",
    "    dete1 = functools.partial(fun1, detect_q,stitch_q,1)\n",
    "    dete2 = functools.partial(fun1, detect_q,stitch_q,2)\n",
    "    dete3 = functools.partial(fun1, detect_q,stitch_q,3)\n",
    "    pool = mp.Pool(processes=6)\n",
    "    \n",
    "    res = pool.map_async(smap, [split1, prep1, prep2, dete1, dete2, dete3])\n",
    "    pool.close()\n",
    "    pool.join()\n",
    "    \n",
    "#     video_stitch(OutPath,fps)"
   ]
  },
  {
   "cell_type": "code",
   "execution_count": null,
   "id": "decent-stack",
   "metadata": {
    "scrolled": false
   },
   "outputs": [],
   "source": [
    "%%time\n",
    "parallel(\"big_buck_bunny_720p_5mb.mp4\",'test_output/vid3.mp4')"
   ]
  },
  {
   "cell_type": "code",
   "execution_count": 71,
   "id": "capable-matthew",
   "metadata": {},
   "outputs": [
    {
     "name": "stdout",
     "output_type": "stream",
     "text": [
      "Fps: 25.0\n",
      "1 0 prep done!\n",
      "2 0 prep done!\n",
      "1 0 detect done!\n",
      "2 0 detect done!\n",
      "3 0 detect done!\n",
      "1 250 prep done!\n",
      "2 250 prep done!\n",
      "Splitting Done and Frames obtained:  739\n",
      "empty prep\n",
      "prep 132384 done\n",
      "empty prep\n",
      "prep 132388 done\n",
      "1 250 detect done!\n",
      "empty detect\n",
      "detect 132396 done\n",
      "empty detect\n",
      "detect 132402 done\n",
      "empty detect\n",
      "detect 132392 done\n"
     ]
    }
   ],
   "source": [
    "def smap(f):\n",
    "    return f()\n",
    "\n",
    "split1 = functools.partial(video_splitting, \"big_buck_bunny_720p_5mb.mp4\", split_q)\n",
    "prep1 = functools.partial(fun, split_q, detect_q,1)\n",
    "prep2 = functools.partial(fun, split_q, detect_q,2)\n",
    "dete1 = functools.partial(fun1, detect_q,1)\n",
    "dete2 = functools.partial(fun1, detect_q,2)\n",
    "dete3 = functools.partial(fun1, detect_q,3)\n",
    "pool = mp.Pool(processes=6)"
   ]
  },
  {
   "cell_type": "code",
   "execution_count": 72,
   "id": "indian-artist",
   "metadata": {},
   "outputs": [
    {
     "name": "stdout",
     "output_type": "stream",
     "text": [
      "CPU times: user 114 ms, sys: 15.4 ms, total: 129 ms\n",
      "Wall time: 46.9 s\n"
     ]
    }
   ],
   "source": [
    "%%time\n",
    "# res = mp.pool.map_async(smap, [prep1, prep2, dete1, dete2, dete3])\n",
    "res = pool.map_async(smap, [split1, prep1, prep2, dete1, dete2, dete3])\n",
    "pool.close()\n",
    "pool.join()"
   ]
  },
  {
   "cell_type": "code",
   "execution_count": 28,
   "id": "electronic-professor",
   "metadata": {},
   "outputs": [],
   "source": [
    "while(q.empty() != True):\n",
    "    q.get()"
   ]
  },
  {
   "cell_type": "code",
   "execution_count": 11,
   "id": "brown-embassy",
   "metadata": {},
   "outputs": [
    {
     "data": {
      "text/plain": [
       "0"
      ]
     },
     "execution_count": 11,
     "metadata": {},
     "output_type": "execute_result"
    }
   ],
   "source": [
    "q.qsize()"
   ]
  }
 ],
 "metadata": {
  "kernelspec": {
   "display_name": "Python 3",
   "language": "python",
   "name": "python3"
  },
  "language_info": {
   "codemirror_mode": {
    "name": "ipython",
    "version": 3
   },
   "file_extension": ".py",
   "mimetype": "text/x-python",
   "name": "python",
   "nbconvert_exporter": "python",
   "pygments_lexer": "ipython3",
   "version": "3.8.5"
  }
 },
 "nbformat": 4,
 "nbformat_minor": 5
}
