{
 "cells": [
  {
   "cell_type": "markdown",
   "id": "outdoor-physiology",
   "metadata": {},
   "source": [
    "## Importing"
   ]
  },
  {
   "cell_type": "code",
   "execution_count": 1,
   "id": "together-netscape",
   "metadata": {},
   "outputs": [],
   "source": [
    "import os\n",
    "import numpy as np\n",
    "import cv2\n",
    "import multiprocessing as mp\n",
    "import time\n",
    "import re\n",
    "import functools\n",
    "min_confidence = 0.2\n",
    "# size = 6000"
   ]
  },
  {
   "cell_type": "markdown",
   "id": "threatened-playlist",
   "metadata": {},
   "source": [
    "## for renaming the file (optional)"
   ]
  },
  {
   "cell_type": "code",
   "execution_count": null,
   "id": "dried-examination",
   "metadata": {},
   "outputs": [],
   "source": [
    "%%time\n",
    "path = './images/'\n",
    "i = 0\n",
    "for filename in os.listdir(path):\n",
    "    os.rename(os.path.join(path,filename), os.path.join(path,'image_'+str(i)+'.jpg'))\n",
    "    i = i +1"
   ]
  },
  {
   "cell_type": "markdown",
   "id": "swedish-mobility",
   "metadata": {},
   "source": [
    "## Video Input"
   ]
  },
  {
   "cell_type": "markdown",
   "id": "miniature-aruba",
   "metadata": {},
   "source": [
    "### Splitting"
   ]
  },
  {
   "cell_type": "code",
   "execution_count": 23,
   "id": "overall-relaxation",
   "metadata": {},
   "outputs": [],
   "source": [
    "def video_splitting(path,queue):\n",
    "    vidcap = cv2.VideoCapture(path) # big_buck_bunny_720p_5mb.mp4\n",
    "\n",
    "    success,image = vidcap.read()\n",
    "    count = 0\n",
    "\n",
    "    #clear directory of frames\n",
    "#     dir = './frames'\n",
    "#     for f in os.listdir(dir):\n",
    "#         os.remove(os.path.join(dir, f))\n",
    "\n",
    "    # success = False\n",
    "#     while success:\n",
    "    for i in range(100):\n",
    "        queue.put([image,count])\n",
    "#         cv2.imwrite(\"./frames/frame%d.jpg\" % count, image)     # save frame as JPEG file    \n",
    "        success,image = vidcap.read()\n",
    "#         print('Read a new frame: ', success)\n",
    "        count += 1\n",
    "        \n",
    "    print(\"Splitting Done and Frames obtained: \",count)"
   ]
  },
  {
   "cell_type": "markdown",
   "id": "billion-olympus",
   "metadata": {},
   "source": [
    "### Joining"
   ]
  },
  {
   "cell_type": "code",
   "execution_count": 3,
   "id": "composite-limit",
   "metadata": {},
   "outputs": [],
   "source": [
    "def video_stitch(video_name,fps):\n",
    "    \n",
    "#     images = [\"./image_output/{}_output.jpg\".format(i) for i in range(len(os.listdir('./image_output')))]\n",
    "#     images = [\"./frames/frame{}.jpg\".format(i) for i in range(len(os.listdir('./frames')))]\n",
    "\n",
    "    # print(len(images))\n",
    "    # print(type(images[0]))\n",
    "    # print(images[0])\n",
    "\n",
    "    frame = cv2.imread(images[0])\n",
    "\n",
    "    height, width = frame.shape[:2]\n",
    "\n",
    "    fourcc = cv2.VideoWriter_fourcc(*'mp4v') \n",
    "    video = cv2.VideoWriter(video_name, fourcc, fps, (width, height))\n",
    "\n",
    "    for image in images:\n",
    "        video.write(cv2.imread(image))\n",
    "    \n",
    "    cv2.destroyAllWindows()\n",
    "    video.release()"
   ]
  },
  {
   "cell_type": "markdown",
   "id": "incorporate-numbers",
   "metadata": {},
   "source": [
    "## class define and model load"
   ]
  },
  {
   "cell_type": "code",
   "execution_count": 4,
   "id": "attached-escape",
   "metadata": {},
   "outputs": [],
   "source": [
    "CLASSES = [\"background\", \"aeroplane\", \"bicycle\", \"bird\", \"boat\",\n",
    "    \"bottle\", \"bus\", \"car\", \"cat\", \"chair\", \"cow\", \"diningtable\",\n",
    "    \"dog\", \"horse\", \"motorbike\", \"person\", \"pottedplant\", \"sheep\",\n",
    "    \"sofa\", \"train\", \"tvmonitor\"]\n",
    "COLORS = np.random.uniform(0, 255, size=(len(CLASSES), 3))\n",
    "\n",
    "net = cv2.dnn.readNetFromCaffe(\"../MobileNetSSD_deploy.prototxt.txt\", \"../MobileNetSSD_deploy.caffemodel\")"
   ]
  },
  {
   "cell_type": "markdown",
   "id": "compound-salad",
   "metadata": {},
   "source": [
    "## function for detection"
   ]
  },
  {
   "cell_type": "code",
   "execution_count": 5,
   "id": "fluid-layer",
   "metadata": {},
   "outputs": [],
   "source": [
    "def prep(image, count, q):\n",
    "    #image load\n",
    "#     image = cv2.imread(img)\n",
    "    (h, w) = image.shape[:2]\n",
    "    blob = cv2.dnn.blobFromImage(cv2.resize(image, (300, 300)), 0.007843, (300, 300), 127.5)\n",
    "#     index = re.sub(\"\\D\", \"\", img)\n",
    "    q.put([blob,image,count])\n",
    "    return None\n",
    "\n",
    "def detect(queueIn, queueOut):\n",
    "\n",
    "    arr, image, num = queueIn.get()\n",
    "    (h, w) = image.shape[:2]\n",
    "    #load image in model\n",
    "    net.setInput(arr)\n",
    "    detections = net.forward()\n",
    "\n",
    "    #look for match in image\n",
    "    for i in np.arange(0, detections.shape[2]):\n",
    "\n",
    "        #extract confidence from detected object\n",
    "        confidence = detections[0, 0, i, 2]\n",
    "\n",
    "        #filter out low confidence objects\n",
    "        if confidence > min_confidence:\n",
    "\n",
    "            idx = int(detections[0, 0, i, 1])\n",
    "            box = detections[0, 0, i, 3:7] * np.array([w, h, w, h])\n",
    "\n",
    "            (startX, startY, endX, endY) = box.astype(\"int\")\n",
    "\n",
    "            # display the prediction\n",
    "            label = \"{}: {:.2f}%\".format(CLASSES[idx], confidence * 100)\n",
    "#             print(\"[INFO] {}\".format(label))\n",
    "            cv2.rectangle(image, (startX, startY), (endX, endY), COLORS[idx], 2)\n",
    "\n",
    "            y = startY - 15 if startY - 15 > 15 else startY + 15\n",
    "            cv2.putText(image, label, (startX, y), cv2.FONT_HERSHEY_SIMPLEX, 0.5, COLORS[idx], 2)\n",
    "\n",
    "    # show the output image\n",
    "    cv2.imwrite(\"./image_output/{}_output.jpg\".format(num), image)\n",
    "    queueOut.put(num)\n",
    "    return None"
   ]
  },
  {
   "cell_type": "markdown",
   "id": "inappropriate-defeat",
   "metadata": {},
   "source": [
    "# Parallel"
   ]
  },
  {
   "cell_type": "code",
   "execution_count": 25,
   "id": "interpreted-lighting",
   "metadata": {},
   "outputs": [],
   "source": [
    "# qw = [\"./frames/frame{}.jpg\".format(i) for i in range(739)]\n",
    "m = mp.Manager()\n",
    "q_size = 100\n",
    "detect_q = m.Queue(q_size)\n",
    "split_q = m.Queue(q_size)\n",
    "stitch_q = m.Queue(q_size)"
   ]
  },
  {
   "cell_type": "code",
   "execution_count": 30,
   "id": "optical-parts",
   "metadata": {},
   "outputs": [
    {
     "data": {
      "text/plain": [
       "100"
      ]
     },
     "execution_count": 30,
     "metadata": {},
     "output_type": "execute_result"
    }
   ],
   "source": [
    "stitch_q.qsize()"
   ]
  },
  {
   "cell_type": "code",
   "execution_count": 38,
   "id": "practical-louisville",
   "metadata": {},
   "outputs": [
    {
     "name": "stdout",
     "output_type": "stream",
     "text": [
      "0\n",
      "2\n",
      "1\n",
      "5\n",
      "3\n",
      "4\n",
      "7\n",
      "6\n",
      "9\n",
      "8\n",
      "11\n",
      "10\n",
      "12\n",
      "14\n",
      "13\n",
      "15\n",
      "17\n",
      "16\n",
      "18\n",
      "20\n",
      "19\n",
      "21\n",
      "22\n",
      "23\n",
      "24\n",
      "25\n",
      "26\n",
      "27\n",
      "29\n",
      "28\n",
      "30\n",
      "32\n",
      "33\n",
      "31\n",
      "36\n",
      "35\n",
      "34\n",
      "37\n",
      "38\n",
      "40\n",
      "39\n",
      "41\n",
      "43\n",
      "42\n",
      "44\n",
      "45\n",
      "47\n",
      "46\n",
      "49\n",
      "48\n",
      "51\n",
      "50\n",
      "52\n",
      "54\n",
      "53\n",
      "55\n",
      "57\n",
      "56\n",
      "58\n",
      "59\n",
      "61\n",
      "60\n",
      "62\n",
      "63\n",
      "64\n",
      "65\n",
      "67\n",
      "66\n",
      "68\n",
      "69\n",
      "70\n",
      "71\n",
      "72\n",
      "73\n",
      "75\n",
      "74\n",
      "76\n",
      "77\n",
      "79\n",
      "78\n",
      "80\n",
      "81\n",
      "83\n",
      "82\n",
      "84\n",
      "85\n",
      "87\n",
      "89\n",
      "86\n",
      "88\n",
      "91\n",
      "90\n",
      "92\n",
      "93\n",
      "96\n",
      "94\n",
      "95\n",
      "97\n",
      "98\n",
      "99\n"
     ]
    }
   ],
   "source": [
    "for i in range(100):\n",
    "    print(stitch_q.get())"
   ]
  },
  {
   "cell_type": "markdown",
   "id": "convertible-soldier",
   "metadata": {},
   "source": [
    "## Parallel with 3 processors"
   ]
  },
  {
   "cell_type": "code",
   "execution_count": 27,
   "id": "alternative-disposition",
   "metadata": {},
   "outputs": [],
   "source": [
    "def fun(queueIn,queueOut,num):\n",
    "    i = 0\n",
    "#     while True:\n",
    "    for i in range(100):\n",
    "#         print(num,\": \",i,\"prep\")\n",
    "        \n",
    "        if(i>10 and queueIn.empty()):\n",
    "            print(\"empty prep\")\n",
    "            break\n",
    "            \n",
    "        image,count = queueIn.get()\n",
    "        prep(image, count, queueOut)\n",
    "        \n",
    "        if(i%250 == 0):\n",
    "            print(num, i,\"prep done!\")\n",
    "                        \n",
    "        i+=1\n",
    "    pid = os.getpid()\n",
    "    print(f'prep {pid} done')"
   ]
  },
  {
   "cell_type": "code",
   "execution_count": 28,
   "id": "narrow-separate",
   "metadata": {},
   "outputs": [],
   "source": [
    "def fun1(queueIn,queueOut,num):\n",
    "    i = 0\n",
    "#     while True:\n",
    "    for i in range(100):\n",
    "        print(num,\": \",i,\"detect\")\n",
    "        \n",
    "        if(i>10 and queueIn.empty()):\n",
    "            print(\"empty detect\")\n",
    "            break\n",
    "            \n",
    "        detect(queueIn,queueOut)\n",
    "        if(i%250 == 0):\n",
    "            print(num,i,\"detect done!\")\n",
    "        i+=1\n",
    "    pid = os.getpid()\n",
    "    print(f'detect {pid} done')"
   ]
  },
  {
   "cell_type": "code",
   "execution_count": 29,
   "id": "funky-benchmark",
   "metadata": {
    "scrolled": false
   },
   "outputs": [
    {
     "name": "stdout",
     "output_type": "stream",
     "text": [
      "1 :  0 detect\n",
      "1 0 detect done!\n",
      "1 :  1 detect\n",
      "1 0 prep done!\n",
      "1 :  2 detect\n",
      "1 :  3 detect\n",
      "1 :  4 detect\n",
      "1:   5 detect\n",
      "1 :  6 detect\n",
      "1 :  7 detect\n",
      "1 :  8 detect\n",
      "1 :  9 detect\n",
      "1 :  10 detect\n",
      "1 :  11 detect\n",
      "1 :  12Splitting Done and Frames obtained:   detect100\n",
      "\n",
      "1 :  13 detect\n",
      "1 :  \n",
      "14 detect1  : 15 detect\n",
      "1 :  16 detect\n",
      "1 :  17 detect\n",
      "1 :  18 detect\n",
      "1 :  19 detect\n",
      "1 :  20 detect\n",
      "1 :  21 detect\n",
      "1 :  22 detect\n",
      "1 :  23 detect\n",
      "1 :  24 detect\n",
      "1 :  25 detect\n",
      "1 :  26 detect\n",
      "1 :  27 detect\n",
      "prep 5130 done\n",
      "1 :  28 detect\n",
      "1 :  29 detect\n",
      "1 :  30 detect\n",
      "1 :  31 detect\n",
      "1 :  32 detect\n",
      "1 :  33 detect\n",
      "1 :  34 detect\n",
      "1 :  35 detect\n",
      "1 :  36 detect\n",
      "1 :  37 detect\n",
      "1 :  38 detect\n",
      "1 :  39 detect\n",
      "1 :  40 detect\n",
      "1 :  41 detect\n",
      "1 :  42 detect\n",
      "1 :  43 detect\n",
      "1 :  44 detect\n",
      "1 :  45 detect\n",
      "1 :  46 detect\n",
      "1 :  47 detect\n",
      "1 :  48 detect\n",
      "1 :  49 detect\n",
      "1 :  50 detect\n",
      "1 :  51 detect\n",
      "1 :  52 detect\n",
      "1 :  53 detect\n",
      "1 :  54 detect\n",
      "1 :  55 detect\n",
      "1 :  56 detect\n",
      "1 :  57 detect\n",
      "1 :  58 detect\n",
      "1 :  59 detect\n",
      "1 :  60 detect\n",
      "1 :  61 detect\n",
      "1 :  62 detect\n",
      "1 :  63 detect\n",
      "1 :  64 detect\n",
      "1 :  65 detect\n",
      "1 :  66 detect\n",
      "1 :  67 detect\n",
      "1 :  68 detect\n",
      "1 :  69 detect\n",
      "1 :  70 detect\n",
      "1 :  71 detect\n",
      "1 :  72 detect\n",
      "1 :  73 detect\n",
      "1 :  74 detect\n",
      "1 :  75 detect\n",
      "1 :  76 detect\n",
      "1 :  77 detect\n",
      "1 :  78 detect\n",
      "1 :  79 detect\n",
      "1 :  80 detect\n",
      "1 :  81 detect\n",
      "1 :  82 detect\n",
      "1 :  83 detect\n",
      "1 :  84 detect\n",
      "1 :  85 detect\n",
      "1 :  86 detect\n",
      "1 :  87 detect\n",
      "1 :  88 detect\n",
      "1 :  89 detect\n",
      "1 :  90 detect\n",
      "1 :  91 detect\n",
      "1 :  92 detect\n",
      "1 :  93 detect\n",
      "1 :  94 detect\n",
      "1 :  95 detect\n",
      "1 :  96 detect\n",
      "1 :  97 detect\n",
      "1 :  98 detect\n",
      "1 :  99 detect\n",
      "detect 7213 done\n",
      "CPU times: user 1.08 s, sys: 781 ms, total: 1.86 s\n",
      "Wall time: 6.7 s\n"
     ]
    }
   ],
   "source": [
    "%%time\n",
    "\n",
    "split_p = mp.Process(target=video_splitting, args=(\"big_buck_bunny_720p_5mb.mp4\",split_q)) #splitting\n",
    "split_p.daemon = True\n",
    "split_p.start()\n",
    "\n",
    "detect_p = mp.Process(target=fun1, args=(detect_q,stitch_q,1)) #detection\n",
    "detect_p.daemon = True\n",
    "detect_p.start()\n",
    "\n",
    "fun(split_q,detect_q,1) #preprocessing\n",
    "\n",
    "split_p.join()\n",
    "detect_p.join()"
   ]
  },
  {
   "cell_type": "code",
   "execution_count": 82,
   "id": "white-pilot",
   "metadata": {},
   "outputs": [
    {
     "data": {
      "text/plain": [
       "0"
      ]
     },
     "execution_count": 82,
     "metadata": {},
     "output_type": "execute_result"
    }
   ],
   "source": [
    "split_q.qsize()"
   ]
  },
  {
   "cell_type": "code",
   "execution_count": 83,
   "id": "intimate-development",
   "metadata": {},
   "outputs": [
    {
     "data": {
      "text/plain": [
       "0"
      ]
     },
     "execution_count": 83,
     "metadata": {},
     "output_type": "execute_result"
    }
   ],
   "source": [
    "detect_q.qsize()"
   ]
  },
  {
   "cell_type": "markdown",
   "id": "returning-lounge",
   "metadata": {},
   "source": [
    "## Parallel with 5 processors"
   ]
  },
  {
   "cell_type": "code",
   "execution_count": 35,
   "id": "capable-function",
   "metadata": {},
   "outputs": [],
   "source": [
    "def fps_calc(path):\n",
    "    vidcap = cv2.VideoCapture(path) # big_buck_bunny_720p_5mb.mp4\n",
    "\n",
    "    fps = vidcap.get(cv2.CAP_PROP_FPS)\n",
    "    return fps"
   ]
  },
  {
   "cell_type": "code",
   "execution_count": 36,
   "id": "hawaiian-campus",
   "metadata": {},
   "outputs": [],
   "source": [
    "def smap(f):\n",
    "    return f()\n",
    "\n",
    "def parallel(InPath,OutPath):\n",
    "    \n",
    "    fps = fps_calc(InPath)\n",
    "    \n",
    "    split1 = functools.partial(video_splitting, InPath, split_q)\n",
    "    prep1 = functools.partial(fun, split_q, detect_q,1)\n",
    "    prep2 = functools.partial(fun, split_q, detect_q,2)\n",
    "    dete1 = functools.partial(fun1, detect_q,stitch_q,1)\n",
    "    dete2 = functools.partial(fun1, detect_q,stitch_q,2)\n",
    "    dete3 = functools.partial(fun1, detect_q,stitch_q,3)\n",
    "    pool = mp.Pool(processes=6)\n",
    "    \n",
    "    res = pool.map_async(smap, [split1, prep1, prep2, dete1, dete2, dete3])\n",
    "    pool.close()\n",
    "    pool.join()\n",
    "    \n",
    "#     video_stitch(OutPath,fps)"
   ]
  },
  {
   "cell_type": "code",
   "execution_count": 37,
   "id": "decent-stack",
   "metadata": {},
   "outputs": [
    {
     "name": "stdout",
     "output_type": "stream",
     "text": [
      "12  : 3:   0:    detect00 \n",
      "detect \n",
      "detect\n",
      "1 0 prep done!\n",
      "2 0 prep done!\n",
      "2 0 detect done!1\n",
      " 20 : 3   detect done!10 \n",
      "detect1\n",
      " detect done! \n",
      ":  31  detect: \n",
      " 1 detect\n",
      "3 :  2 2detect\n",
      " :  2 1 detect: \n",
      " 2 detect\n",
      "3 :  3 detect\n",
      "2 :  33  : detect \n",
      "4 detect\n",
      "1 :  3 detect\n",
      "3 :  5 detect2 :  \n",
      "1 : 4 4  detectdetect\n",
      "\n",
      "213 :  :    55  detectdetect: \n",
      "\n",
      " 6 detect\n",
      "2 :  6Splitting Done and Frames obtained:  100\n",
      "3 detect\n",
      " :  7 detect\n",
      "1 :  6 detect\n",
      "32  : :   7 8 detect\n",
      "detect\n",
      "1 empty prep:  \n",
      "prep 8987 doneempty prep\n",
      "7\n",
      " prep 8994 donedetect\n",
      "\n",
      "2 :  8 3detect\n",
      " :  9 1 :  8 detect\n",
      "detect\n",
      "2 :  9 detect\n",
      "3 1 :  : 9 10 detect\n",
      " detect\n",
      "3 :  11 2 :  10 detectdetect\n",
      "\n",
      "1 :  10 detect\n",
      "2 :  11 detect1 \n",
      ":  11 detect\n",
      "3 :  12 detect\n",
      "3 :  13 detect\n",
      "1 2:   : 12  detect\n",
      "12 detect\n",
      "3 :  14 detect\n",
      "1 :  13 3 :  detect15\n",
      " detect\n",
      "2 :  13 detect\n",
      "1 :  14 detect3\n",
      " :  16 detect2\n",
      " :  114 :  detect \n",
      "15 detect\n",
      "3 :  17 detect\n",
      "2 :  15 detect1\n",
      " :  316 :  18 detect \n",
      "detect\n",
      "2 :  16 detect\n",
      "3 : 1  19:   detect17\n",
      " detect\n",
      "2 :  17 detect\n",
      "1 3:   : 18  20detect detect\n",
      "\n",
      "2 :  18 detect\n",
      "1 :  19 3 : detect 21 detect\n",
      "\n",
      "2 :  19 detect\n",
      "1 :  20 detect\n",
      "23  : :   2220  detect\n",
      "detect\n",
      "1 :  21 detect\n",
      "32  :  23 : detect \n",
      "21 detect\n",
      "1 :  22 detect\n",
      "2 :  22 detect3\n",
      " :  24 detect\n",
      "1 :  23 detect\n",
      "2 : 3  :  25 detect23\n",
      " detect\n",
      "1 :  24 detect3\n",
      " :  26 detect\n",
      "2 :  24 detect\n",
      "3 1:  27  : detect \n",
      "25 detect\n",
      "2 :  25 detect\n",
      "3 : 1  28 detect: \n",
      " 26 detect2\n",
      " :  26 3 : detect\n",
      " 29 detect\n",
      "1 :  27 detect\n",
      "23 :  27 detect\n",
      " :  30 detect\n",
      "12  :  :  2828  detect\n",
      "detect\n",
      "3 :  31 detect\n",
      "31  : : 2 29  detect: \n",
      "  3229  detectdetect\n",
      "\n",
      "3 : 1 233 detect \n",
      ":   :  3030  detect\n",
      "detect\n",
      "3 :  34 detect\n",
      "3 :  2 35:   detect1\n",
      "31 :   31detect \n",
      "detect\n",
      "2 :  323 detect\n",
      "empty detect :  \n",
      "detect 9003 done36\n",
      "1 :  32  detectdetect\n",
      "\n",
      "empty detectempty detect\n",
      "\n",
      "detect 8997 donedetect 9007 done\n",
      "\n",
      "CPU times: user 545 ms, sys: 261 ms, total: 807 ms\n",
      "Wall time: 6.57 s\n"
     ]
    }
   ],
   "source": [
    "%%time\n",
    "parallel(\"big_buck_bunny_720p_5mb.mp4\",'test_output/vid3.mp4')"
   ]
  },
  {
   "cell_type": "code",
   "execution_count": 71,
   "id": "capable-matthew",
   "metadata": {},
   "outputs": [
    {
     "name": "stdout",
     "output_type": "stream",
     "text": [
      "Fps: 25.0\n",
      "1 0 prep done!\n",
      "2 0 prep done!\n",
      "1 0 detect done!\n",
      "2 0 detect done!\n",
      "3 0 detect done!\n",
      "1 250 prep done!\n",
      "2 250 prep done!\n",
      "Splitting Done and Frames obtained:  739\n",
      "empty prep\n",
      "prep 132384 done\n",
      "empty prep\n",
      "prep 132388 done\n",
      "1 250 detect done!\n",
      "empty detect\n",
      "detect 132396 done\n",
      "empty detect\n",
      "detect 132402 done\n",
      "empty detect\n",
      "detect 132392 done\n"
     ]
    }
   ],
   "source": [
    "def smap(f):\n",
    "    return f()\n",
    "\n",
    "split1 = functools.partial(video_splitting, \"big_buck_bunny_720p_5mb.mp4\", split_q)\n",
    "prep1 = functools.partial(fun, split_q, detect_q,1)\n",
    "prep2 = functools.partial(fun, split_q, detect_q,2)\n",
    "dete1 = functools.partial(fun1, detect_q,1)\n",
    "dete2 = functools.partial(fun1, detect_q,2)\n",
    "dete3 = functools.partial(fun1, detect_q,3)\n",
    "pool = mp.Pool(processes=6)"
   ]
  },
  {
   "cell_type": "code",
   "execution_count": 72,
   "id": "indian-artist",
   "metadata": {},
   "outputs": [
    {
     "name": "stdout",
     "output_type": "stream",
     "text": [
      "CPU times: user 114 ms, sys: 15.4 ms, total: 129 ms\n",
      "Wall time: 46.9 s\n"
     ]
    }
   ],
   "source": [
    "%%time\n",
    "# res = mp.pool.map_async(smap, [prep1, prep2, dete1, dete2, dete3])\n",
    "res = pool.map_async(smap, [split1, prep1, prep2, dete1, dete2, dete3])\n",
    "pool.close()\n",
    "pool.join()"
   ]
  },
  {
   "cell_type": "code",
   "execution_count": 28,
   "id": "electronic-professor",
   "metadata": {},
   "outputs": [],
   "source": [
    "while(q.empty() != True):\n",
    "    q.get()"
   ]
  },
  {
   "cell_type": "code",
   "execution_count": 11,
   "id": "brown-embassy",
   "metadata": {},
   "outputs": [
    {
     "data": {
      "text/plain": [
       "0"
      ]
     },
     "execution_count": 11,
     "metadata": {},
     "output_type": "execute_result"
    }
   ],
   "source": [
    "q.qsize()"
   ]
  }
 ],
 "metadata": {
  "kernelspec": {
   "display_name": "Python 3",
   "language": "python",
   "name": "python3"
  },
  "language_info": {
   "codemirror_mode": {
    "name": "ipython",
    "version": 3
   },
   "file_extension": ".py",
   "mimetype": "text/x-python",
   "name": "python",
   "nbconvert_exporter": "python",
   "pygments_lexer": "ipython3",
   "version": "3.8.5"
  }
 },
 "nbformat": 4,
 "nbformat_minor": 5
}
