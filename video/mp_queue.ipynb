{
 "cells": [
  {
   "cell_type": "markdown",
   "id": "outdoor-physiology",
   "metadata": {},
   "source": [
    "## Importing"
   ]
  },
  {
   "cell_type": "code",
   "execution_count": 1,
   "id": "together-netscape",
   "metadata": {},
   "outputs": [],
   "source": [
    "import os\n",
    "import numpy as np\n",
    "import cv2\n",
    "import multiprocessing as mp\n",
    "import time\n",
    "import re\n",
    "import functools\n",
    "min_confidence = 0.2\n",
    "# size = 6000"
   ]
  },
  {
   "cell_type": "markdown",
   "id": "threatened-playlist",
   "metadata": {},
   "source": [
    "## for renaming the file (optional)"
   ]
  },
  {
   "cell_type": "code",
   "execution_count": null,
   "id": "dried-examination",
   "metadata": {},
   "outputs": [],
   "source": [
    "%%time\n",
    "path = './images/'\n",
    "i = 0\n",
    "for filename in os.listdir(path):\n",
    "    os.rename(os.path.join(path,filename), os.path.join(path,'image_'+str(i)+'.jpg'))\n",
    "    i = i +1"
   ]
  },
  {
   "cell_type": "markdown",
   "id": "swedish-mobility",
   "metadata": {},
   "source": [
    "## Video Input"
   ]
  },
  {
   "cell_type": "markdown",
   "id": "miniature-aruba",
   "metadata": {},
   "source": [
    "### Splitting"
   ]
  },
  {
   "cell_type": "code",
   "execution_count": 2,
   "id": "overall-relaxation",
   "metadata": {},
   "outputs": [],
   "source": [
    "def video_splitting(path,queue):\n",
    "    vidcap = cv2.VideoCapture(path) # big_buck_bunny_720p_5mb.mp4\n",
    "\n",
    "    success,image = vidcap.read()\n",
    "    count = 0\n",
    "\n",
    "    #clear directory of frames\n",
    "#     dir = './frames'\n",
    "#     for f in os.listdir(dir):\n",
    "#         os.remove(os.path.join(dir, f))\n",
    "\n",
    "    # success = False\n",
    "    while success:\n",
    "        queue.put([image,count])\n",
    "#         cv2.imwrite(\"./frames/frame%d.jpg\" % count, image)     # save frame as JPEG file    \n",
    "        success,image = vidcap.read()\n",
    "#         print('Read a new frame: ', success)\n",
    "        count += 1\n",
    "        \n",
    "    print(\"Splitting Done and Frames obtained: \",count)"
   ]
  },
  {
   "cell_type": "markdown",
   "id": "billion-olympus",
   "metadata": {},
   "source": [
    "### Joining"
   ]
  },
  {
   "cell_type": "code",
   "execution_count": 3,
   "id": "composite-limit",
   "metadata": {},
   "outputs": [],
   "source": [
    "def video_stitch(video_name,fps):\n",
    "    \n",
    "    images = [\"./image_output/{}_output.jpg\".format(i) for i in range(len(os.listdir('./image_output')))]\n",
    "#     images = [\"./frames/frame{}.jpg\".format(i) for i in range(len(os.listdir('./frames')))]\n",
    "\n",
    "    # print(len(images))\n",
    "    # print(type(images[0]))\n",
    "    # print(images[0])\n",
    "\n",
    "    frame = cv2.imread(images[0])\n",
    "\n",
    "    height, width = frame.shape[:2]\n",
    "\n",
    "    fourcc = cv2.VideoWriter_fourcc(*'mp4v') \n",
    "    video = cv2.VideoWriter(video_name, fourcc, fps, (width, height))\n",
    "\n",
    "    for image in images:\n",
    "        video.write(cv2.imread(image))\n",
    "    \n",
    "    cv2.destroyAllWindows()\n",
    "    video.release()"
   ]
  },
  {
   "cell_type": "markdown",
   "id": "incorporate-numbers",
   "metadata": {},
   "source": [
    "## class define and model load"
   ]
  },
  {
   "cell_type": "code",
   "execution_count": 4,
   "id": "attached-escape",
   "metadata": {},
   "outputs": [],
   "source": [
    "CLASSES = [\"background\", \"aeroplane\", \"bicycle\", \"bird\", \"boat\",\n",
    "    \"bottle\", \"bus\", \"car\", \"cat\", \"chair\", \"cow\", \"diningtable\",\n",
    "    \"dog\", \"horse\", \"motorbike\", \"person\", \"pottedplant\", \"sheep\",\n",
    "    \"sofa\", \"train\", \"tvmonitor\"]\n",
    "COLORS = np.random.uniform(0, 255, size=(len(CLASSES), 3))\n",
    "\n",
    "net = cv2.dnn.readNetFromCaffe(\"../MobileNetSSD_deploy.prototxt.txt\", \"../MobileNetSSD_deploy.caffemodel\")"
   ]
  },
  {
   "cell_type": "markdown",
   "id": "compound-salad",
   "metadata": {},
   "source": [
    "## function for detection"
   ]
  },
  {
   "cell_type": "code",
   "execution_count": 5,
   "id": "fluid-layer",
   "metadata": {},
   "outputs": [],
   "source": [
    "def prep(image, count, q):\n",
    "    #image load\n",
    "#     image = cv2.imread(img)\n",
    "    (h, w) = image.shape[:2]\n",
    "    blob = cv2.dnn.blobFromImage(cv2.resize(image, (300, 300)), 0.007843, (300, 300), 127.5)\n",
    "#     index = re.sub(\"\\D\", \"\", img)\n",
    "    q.put([blob,image,count])\n",
    "    return None\n",
    "\n",
    "def detect(queueIn):\n",
    "\n",
    "    arr, image, num = queueIn.get()\n",
    "    (h, w) = image.shape[:2]\n",
    "    #load image in model\n",
    "    net.setInput(arr)\n",
    "    detections = net.forward()\n",
    "\n",
    "    #look for match in image\n",
    "    for i in np.arange(0, detections.shape[2]):\n",
    "\n",
    "        #extract confidence from detected object\n",
    "        confidence = detections[0, 0, i, 2]\n",
    "\n",
    "        #filter out low confidence objects\n",
    "        if confidence > min_confidence:\n",
    "\n",
    "            idx = int(detections[0, 0, i, 1])\n",
    "            box = detections[0, 0, i, 3:7] * np.array([w, h, w, h])\n",
    "\n",
    "            (startX, startY, endX, endY) = box.astype(\"int\")\n",
    "\n",
    "            # display the prediction\n",
    "            label = \"{}: {:.2f}%\".format(CLASSES[idx], confidence * 100)\n",
    "#             print(\"[INFO] {}\".format(label))\n",
    "            cv2.rectangle(image, (startX, startY), (endX, endY), COLORS[idx], 2)\n",
    "\n",
    "            y = startY - 15 if startY - 15 > 15 else startY + 15\n",
    "            cv2.putText(image, label, (startX, y), cv2.FONT_HERSHEY_SIMPLEX, 0.5, COLORS[idx], 2)\n",
    "\n",
    "    # show the output image\n",
    "    cv2.imwrite(\"./image_output/{}_output.jpg\".format(num), image)\n",
    "    return None"
   ]
  },
  {
   "cell_type": "markdown",
   "id": "inappropriate-defeat",
   "metadata": {},
   "source": [
    "# Parallel"
   ]
  },
  {
   "cell_type": "code",
   "execution_count": 6,
   "id": "interpreted-lighting",
   "metadata": {},
   "outputs": [],
   "source": [
    "# qw = [\"./frames/frame{}.jpg\".format(i) for i in range(739)]\n",
    "m = mp.Manager()\n",
    "q_size = 100\n",
    "detect_q = m.Queue(q_size)\n",
    "split_q = m.Queue(q_size)"
   ]
  },
  {
   "cell_type": "markdown",
   "id": "convertible-soldier",
   "metadata": {},
   "source": [
    "## Parallel with 3 processors"
   ]
  },
  {
   "cell_type": "code",
   "execution_count": 22,
   "id": "alternative-disposition",
   "metadata": {},
   "outputs": [],
   "source": [
    "def fun(queueIn,queueOut,num):\n",
    "    i = 0\n",
    "    while True:\n",
    "#         print(num,\": \",i,\"prep\")\n",
    "        \n",
    "        if(i>10 and queueIn.empty()):\n",
    "            print(\"empty prep\")\n",
    "            break\n",
    "            \n",
    "        image,count = queueIn.get()\n",
    "        prep(image, count, queueOut)\n",
    "        \n",
    "        if(i%250 == 0):\n",
    "            print(num, i,\"prep done!\")\n",
    "                        \n",
    "        i+=1\n",
    "    pid = os.getpid()\n",
    "    print(f'prep {pid} done')"
   ]
  },
  {
   "cell_type": "code",
   "execution_count": 23,
   "id": "narrow-separate",
   "metadata": {},
   "outputs": [],
   "source": [
    "def fun1(queueIn,num):\n",
    "    i = 0\n",
    "    while True:\n",
    "#         print(num,\": \",i,\"detect\")\n",
    "        \n",
    "        if(i>10 and queueIn.empty()):\n",
    "            print(\"empty detect\")\n",
    "            break\n",
    "            \n",
    "        detect(queueIn)\n",
    "        if(i%250 == 0):\n",
    "            print(num,i,\"detect done!\")\n",
    "        i+=1\n",
    "    pid = os.getpid()\n",
    "    print(f'detect {pid} done')"
   ]
  },
  {
   "cell_type": "code",
   "execution_count": 51,
   "id": "funky-benchmark",
   "metadata": {
    "scrolled": false
   },
   "outputs": [
    {
     "name": "stdout",
     "output_type": "stream",
     "text": [
      "1 0 detect done!\n",
      "1 0 prep done!\n",
      "1 250 prep done!\n",
      "1 250 detect done!\n",
      "1 500 prep done!\n",
      "1 500 detect done!\n",
      "Splitting Done and Frames obtained:  739\n",
      "empty prep\n",
      "prep 5130 done\n",
      "empty detect\n",
      "detect 16053 done\n",
      "CPU times: user 6.78 s, sys: 4.69 s, total: 11.5 s\n",
      "Wall time: 44.5 s\n"
     ]
    }
   ],
   "source": [
    "%%time\n",
    "\n",
    "split_p = mp.Process(target=video_splitting, args=(\"big_buck_bunny_720p_5mb.mp4\",split_q)) #splitting\n",
    "split_p.daemon = True\n",
    "split_p.start()\n",
    "\n",
    "detect_p = mp.Process(target=fun1, args=(detect_q,1)) #detection\n",
    "detect_p.daemon = True\n",
    "detect_p.start()\n",
    "\n",
    "fun(split_q,detect_q,1) #preprocessing\n",
    "\n",
    "split_p.join()\n",
    "detect_p.join()"
   ]
  },
  {
   "cell_type": "code",
   "execution_count": null,
   "id": "threatened-request",
   "metadata": {},
   "outputs": [],
   "source": [
    "%%time\n",
    "\n",
    "split_p = mp.Process(target=video_splitting, args=(\"big_buck_bunny_720p_5mb.mp4\",split_q)) #splitting\n",
    "split_p.daemon = True\n",
    "split_p.start()\n",
    "\n",
    "detect_p = mp.Process(target=fun1, args=(detect_q,1)) #detection\n",
    "detect_p.daemon = True\n",
    "detect_p.start()\n",
    "\n",
    "prep_p = mp.Process(target=fun, args=(split_q,detect_q,1)) #preprocessing\n",
    "prep_p.daemon = True\n",
    "prep_p.start()\n",
    "\n",
    "\n",
    "\n",
    "split_p.join()\n",
    "detect_p.join()\n",
    "prep_p.join()"
   ]
  },
  {
   "cell_type": "code",
   "execution_count": 82,
   "id": "white-pilot",
   "metadata": {},
   "outputs": [
    {
     "data": {
      "text/plain": [
       "0"
      ]
     },
     "execution_count": 82,
     "metadata": {},
     "output_type": "execute_result"
    }
   ],
   "source": [
    "split_q.qsize()"
   ]
  },
  {
   "cell_type": "code",
   "execution_count": 83,
   "id": "intimate-development",
   "metadata": {},
   "outputs": [
    {
     "data": {
      "text/plain": [
       "0"
      ]
     },
     "execution_count": 83,
     "metadata": {},
     "output_type": "execute_result"
    }
   ],
   "source": [
    "detect_q.qsize()"
   ]
  },
  {
   "cell_type": "markdown",
   "id": "returning-lounge",
   "metadata": {},
   "source": [
    "## Parallel with 6 processors"
   ]
  },
  {
   "cell_type": "code",
   "execution_count": 24,
   "id": "capable-function",
   "metadata": {},
   "outputs": [],
   "source": [
    "def fps_calc(path):\n",
    "    vidcap = cv2.VideoCapture(path) # big_buck_bunny_720p_5mb.mp4\n",
    "\n",
    "    fps = vidcap.get(cv2.CAP_PROP_FPS)\n",
    "    frame_count = int(vidcap.get(cv2.CAP_PROP_FRAME_COUNT))\n",
    "    return fps,frame_count"
   ]
  },
  {
   "cell_type": "code",
   "execution_count": 15,
   "id": "caring-seven",
   "metadata": {},
   "outputs": [
    {
     "data": {
      "text/plain": [
       "(25.0, 739)"
      ]
     },
     "execution_count": 15,
     "metadata": {},
     "output_type": "execute_result"
    }
   ],
   "source": [
    "fps_calc(\"big_buck_bunny_720p_5mb.mp4\")"
   ]
  },
  {
   "cell_type": "code",
   "execution_count": 25,
   "id": "hawaiian-campus",
   "metadata": {},
   "outputs": [],
   "source": [
    "def smap(f):\n",
    "    return f()\n",
    "\n",
    "def parallel(InPath,OutPath):\n",
    "    \n",
    "    fps,frame_count = fps_calc(InPath)\n",
    "    \n",
    "    split1 = functools.partial(video_splitting, InPath, split_q)\n",
    "    prep1 = functools.partial(fun, split_q, detect_q,1)\n",
    "    prep2 = functools.partial(fun, split_q, detect_q,2)\n",
    "    dete1 = functools.partial(fun1, detect_q,1)\n",
    "    dete2 = functools.partial(fun1, detect_q,2)\n",
    "    dete3 = functools.partial(fun1, detect_q,3)\n",
    "    pool = mp.Pool(processes=6)\n",
    "    \n",
    "    res = pool.map_async(smap, [split1, prep1, prep2, dete1, dete2, dete3])\n",
    "    pool.close()\n",
    "    pool.join()\n",
    "    \n",
    "    video_stitch(OutPath,fps)\n",
    "    \n",
    "    return None"
   ]
  },
  {
   "cell_type": "code",
   "execution_count": 26,
   "id": "decent-stack",
   "metadata": {},
   "outputs": [
    {
     "name": "stdout",
     "output_type": "stream",
     "text": [
      "1 0 prep done!\n",
      "2 0 prep done!\n",
      "1 03  0detect done!\n",
      "2  detect done!\n",
      "0 detect done!\n",
      "1 250 prep done!\n",
      "2 250 prep done!\n",
      "Splitting Done and Frames obtained:  739\n",
      "empty prep\n",
      "prep 14168 done\n",
      "empty prep\n",
      "prep 14171 done\n",
      "empty detect\n",
      "empty detect\n",
      "detect 14174 donedetect 14176 done\n",
      "\n",
      "empty detect\n",
      "detect 14179 done\n",
      "CPU times: user 15.6 s, sys: 186 ms, total: 15.8 s\n",
      "Wall time: 55 s\n"
     ]
    }
   ],
   "source": [
    "%%time\n",
    "parallel(\"big_buck_bunny_720p_5mb.mp4\",'test_output/vid6.mp4')"
   ]
  }
 ],
 "metadata": {
  "kernelspec": {
   "display_name": "Python 3",
   "language": "python",
   "name": "python3"
  },
  "language_info": {
   "codemirror_mode": {
    "name": "ipython",
    "version": 3
   },
   "file_extension": ".py",
   "mimetype": "text/x-python",
   "name": "python",
   "nbconvert_exporter": "python",
   "pygments_lexer": "ipython3",
   "version": "3.8.5"
  }
 },
 "nbformat": 4,
 "nbformat_minor": 5
}
